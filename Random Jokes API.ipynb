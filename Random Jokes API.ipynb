{
 "cells": [
  {
   "cell_type": "code",
   "execution_count": 1,
   "metadata": {},
   "outputs": [],
   "source": [
    "# Import the relevant modules\n",
    "import requests\n",
    "import json"
   ]
  },
  {
   "cell_type": "code",
   "execution_count": 2,
   "metadata": {},
   "outputs": [],
   "source": [
    "# The documentation for this particular API can be found here:\n",
    "# https://github.com/15Dkatz/official_joke_api"
   ]
  },
  {
   "cell_type": "code",
   "execution_count": 25,
   "metadata": {},
   "outputs": [],
   "source": [
    "# define base URL\n",
    "base_site = \"https://official-joke-api.appspot.com/random_joke\""
   ]
  },
  {
   "cell_type": "code",
   "execution_count": 27,
   "metadata": {},
   "outputs": [
    {
     "name": "stdout",
     "output_type": "stream",
     "text": [
      "What kind of tree fits in your hand?\n",
      "A palm tree!\n",
      "\n",
      "Why did the A go to the bathroom and come out as an E?\n",
      "Because he had a vowel movement.\n",
      "\n",
      "How did the hipster burn the roof of his mouth?\n",
      "He ate the pizza before it was cool.\n",
      "\n",
      "How was the snow globe feeling after the storm?\n",
      "A little shaken.\n",
      "\n",
      "Why did the opera singer go sailing?\n",
      "They wanted to hit the high Cs.\n",
      "\n"
     ]
    }
   ],
   "source": [
    "# To see 5 random jokes\n",
    "for i in range(5):\n",
    "    # Make a request\n",
    "    r = requests.get(base_site)\n",
    "    r.status_code\n",
    "    \n",
    "    if(r.ok is False):\n",
    "        print(\"\\nError {}:\".format(r.status_code))\n",
    "        #print(r.json()['error'])\n",
    "    \n",
    "    else:\n",
    "        # Store the response\n",
    "        info = r.json()\n",
    "\n",
    "        # Cycle through the results\n",
    "        print(info['setup'])\n",
    "        print(info['punchline'])\n",
    "        print(\"\")"
   ]
  }
 ],
 "metadata": {
  "kernelspec": {
   "display_name": "Python 3",
   "language": "python",
   "name": "python3"
  },
  "language_info": {
   "codemirror_mode": {
    "name": "ipython",
    "version": 3
   },
   "file_extension": ".py",
   "mimetype": "text/x-python",
   "name": "python",
   "nbconvert_exporter": "python",
   "pygments_lexer": "ipython3",
   "version": "3.8.2"
  }
 },
 "nbformat": 4,
 "nbformat_minor": 2
}
