{
 "cells": [
  {
   "cell_type": "markdown",
   "metadata": {},
   "source": [
    "### Importing the packages"
   ]
  },
  {
   "cell_type": "code",
   "execution_count": null,
   "metadata": {},
   "outputs": [],
   "source": [
    "# Load the packages\n",
    "import requests\n",
    "from bs4 import BeautifulSoup"
   ]
  },
  {
   "cell_type": "markdown",
   "metadata": {},
   "source": [
    "### Making a get request"
   ]
  },
  {
   "cell_type": "code",
   "execution_count": null,
   "metadata": {},
   "outputs": [],
   "source": [
    "# Defining the url of the site\n",
    "base_site = \"https://en.wikipedia.org/wiki/Space_medicine\"\n",
    "\n",
    "# Making a get request\n",
    "response = requests.get(base_site)\n",
    "response"
   ]
  },
  {
   "cell_type": "code",
   "execution_count": null,
   "metadata": {},
   "outputs": [],
   "source": [
    "# Extracting the HTML\n",
    "html = response.content"
   ]
  },
  {
   "cell_type": "markdown",
   "metadata": {},
   "source": [
    "### Making the soup"
   ]
  },
  {
   "cell_type": "code",
   "execution_count": null,
   "metadata": {},
   "outputs": [],
   "source": [
    "# Convert HTML to a BeautifulSoup object. This will allow us to parse out content from the HTML more easily.\n",
    "# Using the default parser as it is included in Python\n",
    "soup = BeautifulSoup(html, \"html.parser\")"
   ]
  },
  {
   "cell_type": "markdown",
   "metadata": {},
   "source": [
    "### 1. Extract all existing titles of links"
   ]
  },
  {
   "cell_type": "code",
   "execution_count": null,
   "metadata": {
    "scrolled": true
   },
   "outputs": [],
   "source": [
    "# Find all links on the page \n",
    "links = soup.find_all('a')\n",
    "links"
   ]
  },
  {
   "cell_type": "code",
   "execution_count": null,
   "metadata": {},
   "outputs": [],
   "source": [
    "# Dropping the links without 'href' attribute (removing links without URL or 'None')\n",
    "\n",
    "clean_links = [l for l in links if l.get('href') != None]\n",
    "clean_links"
   ]
  },
  {
   "cell_type": "code",
   "execution_count": null,
   "metadata": {},
   "outputs": [],
   "source": [
    "# Getting all titles\n",
    "\n",
    "titles = [l.get('title') for l in clean_links]\n",
    "titles"
   ]
  },
  {
   "cell_type": "code",
   "execution_count": null,
   "metadata": {},
   "outputs": [],
   "source": [
    "# Removing the 'None' titles\n",
    "\n",
    "clean_titles = [t for t in titles if t != None]\n",
    "clean_titles"
   ]
  },
  {
   "cell_type": "markdown",
   "metadata": {},
   "source": [
    "### 2. Extract all heading 2 strings."
   ]
  },
  {
   "cell_type": "code",
   "execution_count": null,
   "metadata": {},
   "outputs": [],
   "source": [
    "# Inspect all h2 tags\n",
    "soup.find_all('h2')"
   ]
  },
  {
   "cell_type": "code",
   "execution_count": null,
   "metadata": {},
   "outputs": [],
   "source": [
    "# Get the text\n",
    "h2_strings = [h2.string for h2 in soup.find_all('h2')]\n",
    "h2_strings"
   ]
  },
  {
   "cell_type": "code",
   "execution_count": null,
   "metadata": {},
   "outputs": [],
   "source": [
    "# Oh no! Why it's mostly listed as None? :(\n",
    "# OK let's check the span class then\n",
    "soup.find_all(class_ = 'mw-headline')"
   ]
  },
  {
   "cell_type": "code",
   "execution_count": 73,
   "metadata": {},
   "outputs": [
    {
     "data": {
      "text/plain": [
       "['History',\n",
       " 'Project Mercury',\n",
       " 'Effects of space-travel',\n",
       " 'Cardiac rhythms',\n",
       " 'Decompression illness in spaceflight',\n",
       " 'Decompression sickness',\n",
       " 'Barotrauma',\n",
       " 'Decreased immune system functioning',\n",
       " 'Increased infection risk',\n",
       " 'Effects of fatigue',\n",
       " 'Loss of balance',\n",
       " 'Loss of bone density',\n",
       " 'Loss of muscle mass',\n",
       " 'Loss of eyesight',\n",
       " \"Loss of mental abilities and risk of Alzheimer's disease\",\n",
       " 'Orthostatic intolerance',\n",
       " 'Radiation effects',\n",
       " 'Sleep disorders',\n",
       " 'Spaceflight analogues',\n",
       " 'Space medicine careers',\n",
       " 'Related degrees, areas of specialization, and certifications',\n",
       " 'Space nursing',\n",
       " 'Medicine in flight',\n",
       " 'Ultrasound and space',\n",
       " 'Space Shuttle era',\n",
       " 'Future investigations',\n",
       " 'Feasibility of Long Duration Space Flights',\n",
       " 'Impact on science and medicine',\n",
       " 'Pre-Mercury through Apollo',\n",
       " 'Ultrasound microgravity',\n",
       " 'See also',\n",
       " 'References',\n",
       " 'External links']"
      ]
     },
     "execution_count": 73,
     "metadata": {},
     "output_type": "execute_result"
    }
   ],
   "source": [
    "# Get that span class text\n",
    "cl_strings = [cl.string for cl in soup.find_all(class_ = 'mw-headline')]\n",
    "cl_strings"
   ]
  },
  {
   "cell_type": "markdown",
   "metadata": {},
   "source": [
    "# Extracting the link data from the main page"
   ]
  },
  {
   "cell_type": "code",
   "execution_count": null,
   "metadata": {},
   "outputs": [],
   "source": [
    "# Now to extract all links marked as 'Main article:' or 'See also:'\n",
    "# Inspect the page from the browser first and see in which tag the links are contained\n",
    "\n",
    "div_notes = soup.find_all(\"div\", {\"role\": \"note\"})\n",
    "div_notes"
   ]
  },
  {
   "cell_type": "code",
   "execution_count": null,
   "metadata": {},
   "outputs": [],
   "source": [
    "div_notes[0]"
   ]
  },
  {
   "cell_type": "code",
   "execution_count": null,
   "metadata": {},
   "outputs": [],
   "source": [
    "# Locate the link inside the tag\n",
    "\n",
    "div_notes[0].find('a')"
   ]
  },
  {
   "cell_type": "code",
   "execution_count": null,
   "metadata": {},
   "outputs": [],
   "source": [
    "# Use the naive approach to get all the links\n",
    "\n",
    "div_links = [div.find('a') for div in div_notes]\n",
    "div_links"
   ]
  },
  {
   "cell_type": "code",
   "execution_count": null,
   "metadata": {},
   "outputs": [],
   "source": [
    "# Check how many links we get\n",
    "\n",
    "len(div_links)"
   ]
  },
  {
   "cell_type": "code",
   "execution_count": null,
   "metadata": {},
   "outputs": [],
   "source": [
    "# Check if some divs have more than 1 link, which they usually do\n",
    "\n",
    "div_notes[6]"
   ]
  },
  {
   "cell_type": "code",
   "execution_count": null,
   "metadata": {},
   "outputs": [],
   "source": [
    "# Check how many links the previous div has\n",
    "\n",
    "div_notes[6].find_all('a')"
   ]
  },
  {
   "cell_type": "code",
   "execution_count": null,
   "metadata": {},
   "outputs": [],
   "source": [
    "# So I need to use find_all to make sure I capture them all\n",
    "# Let's use a for loop to contain all those grouped together links\n",
    "\n",
    "# Define initially empty list of links\n",
    "div_links = []\n",
    "\n",
    "for div in div_notes:\n",
    "    anchors = div.find_all('a')\n",
    "    \n",
    "    # Need to add every link from anchors to div_links\n",
    "    for a in anchors:\n",
    "        div_links.append(a)\n",
    "        \n",
    "    # Or I can use div_links.extend(anchors) instead of the for loop"
   ]
  },
  {
   "cell_type": "code",
   "execution_count": null,
   "metadata": {},
   "outputs": [],
   "source": [
    "div_links"
   ]
  },
  {
   "cell_type": "code",
   "execution_count": null,
   "metadata": {},
   "outputs": [],
   "source": [
    "# Recheck how many links we get\n",
    "\n",
    "len(div_links)"
   ]
  },
  {
   "cell_type": "code",
   "execution_count": null,
   "metadata": {},
   "outputs": [],
   "source": [
    "# Let's get the complete URLs\n",
    "# Use urljoin to obtain the absolute URL address and combine it with relative URL address\n",
    "\n",
    "from urllib.parse import urljoin\n",
    "\n",
    "note_urls = [urljoin(base_site, l.get('href')) for l in div_links]\n",
    "note_urls"
   ]
  },
  {
   "cell_type": "code",
   "execution_count": null,
   "metadata": {},
   "outputs": [],
   "source": [
    "len(note_urls)"
   ]
  },
  {
   "cell_type": "markdown",
   "metadata": {},
   "source": [
    "# Extracting all text from the note URLs"
   ]
  },
  {
   "cell_type": "code",
   "execution_count": null,
   "metadata": {},
   "outputs": [],
   "source": [
    "# Now I have all the note URLs, next I want to see the text inside them\n",
    "\n",
    "note_urls"
   ]
  },
  {
   "cell_type": "code",
   "execution_count": null,
   "metadata": {},
   "outputs": [],
   "source": [
    "# To do that, extract all text contained in a paragraph element,\n",
    "# for all paragraphs on a page,\n",
    "# for all pages in note_urls\n",
    "\n",
    "# Prepare the list to store paragraph text for each webpage\n",
    "par_text = []\n",
    "\n",
    "# Create a loop counter\n",
    "i = 0\n",
    "\n",
    "# Loop through each URL in note_urls\n",
    "for url in note_urls:\n",
    "    \n",
    "    # connect to every webpage\n",
    "    note_resp = requests.get(url)\n",
    "    \n",
    "    # check if the request is successful\n",
    "    \n",
    "    # if everything is OK\n",
    "    if note_resp.status_code == 200:\n",
    "        # print out the number of iteration and the URL to keep track of place in loop\n",
    "        print('URL #{0}: {1}'.format(i+1,url))\n",
    "        \n",
    "    # if something is wrong\n",
    "    else:\n",
    "        print('Status code{0}: Skipping URL #{1}: {2}'.format(note_resp.status_code, i+1, url))\n",
    "        i = i+1\n",
    "        continue\n",
    "        \n",
    "    # get HTML from webpage\n",
    "    note_html = note_resp.content\n",
    "    \n",
    "    # convert HTML to BeautifulSoup object\n",
    "    note_soup = BeautifulSoup(note_html,'lxml')\n",
    "    \n",
    "    # find all \"p\" tags on the webpage\n",
    "    note_pars = note_soup.find_all(\"p\")\n",
    "    \n",
    "    # get the text from each \"p\" tag\n",
    "    text = [p.text for p in note_pars]\n",
    "    \n",
    "    # append text from each \"p\" tag to the par_text list\n",
    "    par_text.append(text)\n",
    "    \n",
    "    # incrementing the loop counter\n",
    "    i = i+1"
   ]
  },
  {
   "cell_type": "code",
   "execution_count": null,
   "metadata": {},
   "outputs": [],
   "source": [
    "# Inspect the result for the first page\n",
    "par_text[0]"
   ]
  },
  {
   "cell_type": "code",
   "execution_count": null,
   "metadata": {},
   "outputs": [],
   "source": [
    "# Since the list contains all paragraph strings,\n",
    "# let's have all the text as one string instead of a list of strings\n",
    "\n",
    "# Merge all paragraphs of the first page into one long string\n",
    "page_text = [\"\".join(text) for text in par_text]\n",
    "\n",
    "#Inspect the result for some webpage\n",
    "page_text[0]"
   ]
  },
  {
   "cell_type": "code",
   "execution_count": null,
   "metadata": {},
   "outputs": [],
   "source": [
    "# Create a dictionary with the (key,value) pairs being (url,text)\n",
    "url_to_text = dict(zip(note_urls, page_text))"
   ]
  },
  {
   "cell_type": "code",
   "execution_count": 72,
   "metadata": {},
   "outputs": [
    {
     "name": "stdout",
     "output_type": "stream",
     "text": [
      "\n",
      "Project Mercury was the first human spaceflight program of the United States, running from 1958 through 1963.  An early highlight of the Space Race, its goal was to put a man into Earth orbit and return him safely, ideally before the Soviet Union.  Taken over from the US Air Force by the newly created civilian space agency NASA, it conducted twenty uncrewed developmental flights (some using animals), and six successful flights by astronauts. The program, which took its name from Roman mythology, cost $2.25 billion adjusted for inflation.[1][n 2] The astronauts were collectively known as the \"Mercury Seven\", and each spacecraft was given a name ending with a \"7\" by its pilot.\n",
      "The Space Race began with the 1957 launch of the Soviet satellite Sputnik 1.  This came as a shock to the American public, and led to the creation of NASA to expedite existing US space exploration efforts, and place most of them under civilian control. After the successful launch of the Explorer 1 satellite in 1958, crewed spaceflight became the next goal. The Soviet Union put the first human, cosmonaut Yuri Gagarin, into a single orbit aboard Vostok 1 on April 12, 1961. Shortly after this, on May 5, the US launched its first astronaut, Alan Shepard, on a suborbital flight. Soviet Gherman Titov followed with a day-long orbital flight in August 1961.  The US reached its orbital goal on February 20, 1962, when John Glenn made three orbits around the Earth. When Mercury ended in May 1963, both nations had sent six people into space, but the Soviets led the US in total time spent in space.\n",
      "The Mercury space capsule was produced by McDonnell Aircraft, and carried supplies of water, food and oxygen for about one day in a pressurized cabin. Mercury flights were launched from Cape Canaveral Air Force Station in Florida, on launch vehicles modified from the Redstone and Atlas D missiles.  The capsule was fitted with a launch escape rocket to carry it safely away from the launch vehicle in case of a failure. The flight was designed to be controlled from the ground via the Manned Space Flight Network, a system of tracking and communications stations; back-up controls were outfitted on board.  Small retrorockets were used to bring the spacecraft out of its orbit, after which an ablative heat shield protected it from the heat of atmospheric reentry. Finally, a parachute slowed the craft for a water landing. Both astronaut and capsule were recovered by helicopters deployed from a US Navy ship.\n",
      "The Mercury project gained popularity, and its missions were followed by millions on radio and TV around the world.  Its success laid the groundwork for Project Gemini, which carried two astronauts in each capsule and perfected space docking maneuvers essential for crewed lunar landings in the subsequent Apollo program announced a few weeks after the first crewed Mercury flight.\n",
      "Project Mercury was officially approved on October 7, 1958 and publicly announced on December 17.[5][6] Originally called Project Astronaut, President Dwight Eisenhower felt that gave too much attention to the pilot.[7] Instead, the name Mercury was chosen from classical mythology, which had already lent names to rockets like the Greek Atlas and Roman Jupiter for the SM-65 and PGM-19 missiles.[6] It absorbed military projects with the same aim, such as the Air Force Man in Space Soonest.[8][n 3]\n",
      "Following the end of World War II, a nuclear arms race evolved between the US and the Soviet Union (USSR). Since the USSR did not have bases in the western hemisphere from which to deploy bomber planes, Joseph Stalin decided to develop intercontinental ballistic missiles, which drove a missile race.[10] The rocket technology in turn enabled both sides to develop Earth-orbiting satellites for communications, and gathering weather data and intelligence.[11] Americans were shocked when the Soviet Union placed the first satellite into orbit in October 1957, leading to a growing fear that the US was falling into a \"missile gap\".[12][11]  A month later, the Soviets launched Sputnik 2, carrying a dog into orbit. Though the animal was not recovered alive, it was obvious their goal was human spaceflight.[13] Unable to disclose details of military space projects, President Eisenhower ordered the creation of a civilian space agency in charge of civilian and scientific space exploration. Based on the federal research agency National Advisory Committee for Aeronautics (NACA), it was named the National Aeronautics and Space Administration (NASA).[14] It achieved its first goal, an American satellite in space, in 1958. The next goal was to put a man there.[15]\n",
      "The limit of space (also known as the Kármán line) was defined at the time as a minimum altitude of 62 mi (100 km), and the only way to reach it was by using rocket-powered boosters.[16][17] This created risks for the pilot, including explosion, high g-forces and vibrations during lift off through a dense atmosphere,[18] and temperatures of more than 10,000 °F (5,500 °C) from air compression during reentry.[19]\n",
      "In space, pilots would require pressurized chambers or space suits to supply fresh air.[20]  While there, they would experience weightlessness, which could potentially cause disorientation.[21] Further potential risks included radiation and micrometeoroid strikes, both of which would normally be absorbed in the atmosphere.[22]  All seemed possible to overcome: experience from satellites suggested micrometeoroid risk was negligible,[23] and experiments in the early 1950s with simulated weightlessness, high g-forces on humans, and sending animals to the limit of space, all suggested potential problems could be overcome by known technologies.[24] Finally, reentry was studied using the nuclear warheads of ballistic missiles,[25] which demonstrated a blunt, forward-facing heat shield could solve the problem of heating.[25]\n",
      "T. Keith Glennan had been appointed the first Administrator of NASA, with Hugh L. Dryden (last Director of NACA) as his Deputy, at the creation of the agency on October 1, 1958.[26] Glennan would report to the president through the National Aeronautics and Space Council.[27] The group responsible for Project Mercury was NASA's Space Task Group, and the goals of the program were to orbit a crewed spacecraft around Earth, investigate the pilot's ability to function in space, and to recover both pilot and spacecraft safely.[28] Existing technology and off-the-shelf equipment would be used wherever practical, the simplest and most reliable approach to system design would be followed, and an existing launch vehicle would be employed, together with a progressive test program.[29] Spacecraft requirements included: a launch escape system to separate the spacecraft and its occupant from the launch vehicle in case of impending failure; attitude control for orientation of the spacecraft in orbit; a retrorocket system to bring the spacecraft out of orbit; drag braking blunt body for atmospheric reentry; and landing on water.[29] To communicate with the spacecraft during an orbital mission, an extensive communications network had to be built.[30] In keeping with his desire to keep from giving the US space program an overtly military flavor, President Eisenhower at first hesitated to give the project top national priority (DX rating under the Defense Production Act), which meant that Mercury had to wait in line behind military projects for materials; however, this rating was granted in May 1959, a little more than a year and a half after Sputnik was launched.[31]\n",
      "Twelve companies bid to build the Mercury spacecraft on a $20 million ($175 million adjusted for inflation) contract.[32] In January 1959, McDonnell Aircraft Corporation was chosen to be prime contractor for the spacecraft.[33] Two weeks earlier, North American Aviation, based in Los Angeles, was awarded a contract for Little Joe, a small rocket to be used for development of the launch escape system.[34][n 4] The World Wide Tracking Network for communication between the ground and spacecraft during a flight was awarded to the Western Electric Company.[35] Redstone rockets for suborbital launches were manufactured in Huntsville, Alabama by the Chrysler Corporation[36] and Atlas rockets by Convair in San Diego, California.[37] For crewed launches, the Atlantic Missile Range at Cape Canaveral Air Force Station in Florida was made available by the USAF.[38] This was also the site of the Mercury Control Center while the computing center of the communication network was in Goddard Space Center, Maryland.[39] Little Joe rockets were launched from Wallops Island, Virginia.[40] Astronaut training took place at Langley Research Center in Virginia, Lewis Flight Propulsion Laboratory in Cleveland, Ohio, and Naval Air Development Center Johnsville in Warminster, PA.[41] Langley wind tunnels[42] together with a rocket sled track at Holloman Air Force Base at Alamogordo, New Mexico were used for aerodynamic studies.[43] Both Navy and Air Force aircraft were made available for the development of the spacecraft's landing system,[44] and Navy ships and Navy and Marine Corps helicopters were made available for recovery.[n 5] South of Cape Canaveral the town of Cocoa Beach boomed.[46] From here, 75,000 people watched the first American orbital flight being launched in 1962.[46]\n",
      "Wallops Island test facility, 1961\n",
      "Mercury Control Center, Cape Canaveral, 1963\n",
      "Location of production and operational facilities of Project Mercury\n",
      "The Mercury spacecraft's principal designer was Maxime Faget, who started research for human spaceflight during the time of the NACA.[47] It was 10.8 feet (3.3 m) long and 6.0 feet (1.8 m) wide; with the launch escape system added, the overall length was 25.9 feet (7.9 m).[48] With 100 cubic feet (2.8 m3) of habitable volume, the capsule was just large enough for a single crew member.[49] Inside were 120 controls: 55 electrical switches, 30 fuses and 35 mechanical levers.[50] The heaviest spacecraft, Mercury-Atlas 9, weighed 3,000 pounds (1,400 kg) fully loaded.[51] Its outer skin was made of René 41, a nickel alloy able to withstand high temperatures.[52]\n",
      "The spacecraft was cone shaped, with a neck at the narrow end.[48] It had a convex base, which carried a heat shield (Item 2 in the diagram below)[53] consisting of an aluminum honeycomb covered with multiple layers of fiberglass.[54] Strapped to it was a retropack (1)[55] consisting of three rockets deployed to brake the spacecraft during reentry.[56] Between these were three minor rockets for separating the spacecraft from the launch vehicle at orbital insertion.[57] The straps that held the package could be severed when it was no longer needed.[58] Next to the heat shield was the pressurized crew compartment (3).[59] Inside, an astronaut would be strapped to a form-fitting seat with instruments in front of him and with his back to the heat shield.[60] Underneath the seat was the environmental control system supplying oxygen and heat,[61] scrubbing the air of CO2, vapor and odors, and (on orbital flights) collecting urine.[62][n 6] The recovery compartment (4)[64] at the narrow end of the spacecraft contained three parachutes: a drogue to stabilize free fall and two main chutes, a primary and reserve.[65] Between the heat shield and inner wall of the crew compartment was a landing skirt, deployed by letting down the heat shield before landing.[66] On top of the recovery compartment was the antenna section (5)[67] containing both antennas for communication and scanners for guiding spacecraft orientation.[68] Attached was a flap used to ensure the spacecraft was faced heat shield first during reentry.[69] A launch escape system (6) was mounted to the narrow end of the spacecraft[70] containing three small solid-fueled rockets which could be fired briefly in a launch failure to separate the capsule safely from its booster. It would deploy the capsule's parachute for a landing nearby at sea.[71] (See also Mission profile for details.)\n",
      "The Mercury spacecraft did not have an on-board computer, instead relying on all computation for reentry to be calculated by computers on the ground, with their results (retrofire times and firing attitude) then transmitted to the spacecraft by radio while in flight.[72][73] All computer systems used in the Mercury space program were housed in NASA facilities on Earth.[72] The computer systems were IBM 701 computers.[74][75] (See also Ground control for details.)\n",
      "1. Retropack. 2. Heatshield. 3. Crew compartment. 4. Recovery compartment. 5. Antenna section. 6. Launch escape system.\n",
      "Retropack: Retrorockets with red posigrade rockets\n",
      "Landing skirt (or bag) deployment: skirt is inflated; on impact the air is pressed out (like an airbag)\n",
      "The astronaut lay in a sitting position with his back to the heat shield, which was found to be the position that best enabled a human to withstand the high g-forces of launch and reentry. A fiberglass seat was custom-molded from each astronaut's space-suited body for maximum support. Near his left hand was a manual abort handle to activate the launch escape system if necessary prior to or during liftoff, in case the automatic trigger failed.[76]\n",
      "To supplement the onboard environmental control system, he wore a pressure suit with its own oxygen supply, which would also cool him.[77] A cabin atmosphere of pure oxygen at a low pressure of 5.5 psi or 38 kPa (equivalent to an altitude of 24,800 feet or 7,600 metres) was chosen, rather than one with the same composition as air (nitrogen/oxygen) at sea level.[78] This was easier to control,[79] avoided the risk of decompression sickness (\"the bends\"),[80][n 7] and also saved on spacecraft weight. Fires (which never occurred) would have to be extinguished by emptying the cabin of oxygen.[62] In such case, or failure of the cabin pressure for any reason, the astronaut could make an emergency return to Earth, relying on his suit for survival.[81][62] The astronauts normally flew with their visor up, which meant that the suit was not inflated.[62] With the visor down and the suit inflated, the astronaut could only reach the side and bottom panels, where vital buttons and handles were placed.[82]\n",
      "The astronaut also wore electrodes on his chest to record his heart rhythm, a cuff that could take his blood pressure, and a rectal thermometer to record his temperature (this was replaced by an oral thermometer on the last flight).[83] Data from these was sent to the ground during the flight.[77][n 8] The astronaut normally drank water and ate food pellets.[85][n 9]\n",
      "Once in orbit, the spacecraft could be rotated in yaw, pitch, and roll:[86] along its longitudinal axis (roll), left to right from the astronaut's point of view (yaw), and up or down (pitch).[87] Movement was created by rocket-propelled thrusters which used hydrogen peroxide as a fuel.[88][89] For orientation, the pilot could look through the window in front of him or he could look at a screen connected to a periscope with a camera which could be turned 360°.[90]\n",
      "The Mercury astronauts had taken part in the development of their spacecraft, and insisted that manual control, and a window, be elements of its design.[91] As a result, spacecraft movement and other functions could be controlled three ways: remotely from the ground when passing over a ground station, automatically guided by onboard instruments, or manually by the astronaut, who could replace or override the two other methods. Experience validated the astronauts' insistence on manual controls.  Without them, Gordon Cooper's manual reentry during the last flight would not have been possible.[92]\n",
      "Interior of spacecraft\n",
      "The three axes of rotation for the spacecraft: yaw, pitch and roll\n",
      "Temperature profile for spacecraft in Fahrenheit\n",
      "The control panels of Friendship 7.[93] The panels changed between flights, among others the periscope screen that dominates the center of these panels was dropped for the final flight together with the periscope itself.\n",
      "3-axis handle for attitude control\n",
      "The Mercury spacecraft design was modified three times by NASA between 1958 and 1959.[94] After bidding by potential contractors had been completed, NASA selected the design submitted as \"C\" in November 1958.[95] After it failed a test flight in July 1959, a final configuration, \"D\", emerged.[96] The heat shield shape had been developed earlier in the 1950s through experiments with ballistic missiles, which had shown a blunt profile would create a shock wave that would lead most of the heat around the spacecraft.[97] To further protect against heat, either a heat sink, or an ablative material, could be added to the shield.[98] The heat sink would remove heat by the flow of the air inside the shock wave, whereas the ablative heat shield would remove heat by a controlled evaporation of the ablative material.[99] After uncrewed tests, the latter was chosen for crewed flights.[100] Apart from the capsule design, a rocket plane similar to the existing X-15 was considered.[101] This approach was still too far from being able to make a spaceflight, and was consequently dropped.[102][n 10] The heat shield and the stability of the spacecraft were tested in wind tunnels,[42] and later in flight.[106] The launch escape system was developed through uncrewed flights.[107] During a period of problems with development of the landing parachutes, alternative landing systems such as the Rogallo glider wing were considered, but ultimately scrapped.[108]\n",
      "The spacecraft were produced at McDonnell Aircraft, St. Louis, Missouri, in clean rooms and tested in vacuum chambers at the McDonnell plant.[109] The spacecraft had close to 600 subcontractors, such as Garrett AiResearch which built the spacecraft's environmental control system.[33][61] Final quality control and preparations of the spacecraft were made at Hangar S at Cape Canaveral.[110][n 11] NASA ordered 20 production spacecraft, numbered 1 through 20.[33] Five of the 20, Nos. 10, 12, 15, 17, and 19, were not flown.[113] Spacecraft No. 3 and No. 4 were destroyed during uncrewed test flights.[113] Spacecraft No. 11 sank and was recovered from the bottom of the Atlantic Ocean after 38 years.[113][114] Some spacecraft were modified after initial production (refurbished after launch abort, modified for longer missions, etc.).[n 12] A number of Mercury boilerplate spacecraft (made from non-flight materials or lacking production spacecraft systems) were also made by NASA and McDonnell.[117] They were designed and used to test spacecraft recovery systems and the escape tower.[118] McDonnell also built the spacecraft simulators used by the astronauts during training.[119]\n",
      "Shadowgraph of the reentry shock wave simulated in a wind tunnel, 1957\n",
      "Evolution of capsule design, 1958–59\n",
      "Experiment with boilerplate spacecraft, 1959\n",
      "Drop of boilerplate spacecraft in training of landing and recovery. 56 such qualification tests were made together with tests of individual steps of the system.[120]\n",
      "A 55-foot-long (17 m) launch vehicle called Little Joe was used for uncrewed tests of the launch escape system, using a Mercury capsule with an escape tower mounted on it.[121][122] Its main purpose was to test the system at a point called max-q, at which air pressure against the spacecraft peaked, making separation of the launch vehicle and spacecraft most difficult.[123] It was also the point at which the astronaut was subjected to the heaviest vibrations.[124] The Little Joe rocket used solid-fuel propellant and was originally designed in 1958 by the NACA for suborbital crewed flights, but was redesigned for Project Mercury to simulate an Atlas-D launch.[107] It was produced by North American Aviation.[121] It was not able to change direction; instead its flight depended on the angle from which it was launched.[125] Its maximum altitude was 100 mi (160 km) fully loaded.[126] A Scout launch vehicle was used for a single flight intended to evaluate the tracking network; however, it failed and was destroyed from the ground shortly after launch.[127]\n",
      "The Mercury-Redstone Launch Vehicle was an 83-foot-tall (25 m) (with capsule and escape system) single-stage launch vehicle used for suborbital (ballistic) flights.[128] It had a liquid-fueled engine that burned alcohol and liquid oxygen producing about 75,000 pounds-force (330 kN) of thrust, which was not enough for orbital missions.[128] It was a descendant of the German V-2,[36] and developed for the U.S. Army during the early 1950s. It was modified for Project Mercury by removing the warhead and adding a collar for supporting the spacecraft together with material for damping vibrations during launch.[129] Its rocket motor was produced by North American Aviation and its direction could be altered during flight by its fins. They worked in two ways: by directing the air around them, or by directing the thrust by their inner parts (or both at the same time).[36] Both the Atlas-D and Redstone launch vehicles contained an automatic abort sensing system which allowed them to abort a launch by firing the launch escape system if something went wrong.[130] The Jupiter rocket, also developed by Von Braun's team at the Redstone Arsenal in Huntsville, was considered as well for intermediate Mercury suborbital flights at a higher speed and altitude than Redstone, but this plan was dropped when it turned out that man-rating Jupiter for the Mercury program would actually cost more than flying an Atlas due to economics of scale.[131][132] Jupiter's only use other than as a missile system was for the short-lived Juno II launch vehicle, and keeping a full staff of technical personnel around solely to fly a few Mercury capsules would result in excessively high costs.[citation needed]\n",
      "Orbital missions required use of the Atlas LV-3B, a man-rated version of the Atlas D which was originally developed as the United States' first operational intercontinental ballistic missile (ICBM)[133] by Convair for the Air Force during the mid-1950s.[134] The Atlas was a \"one-and-one-half-stage\" rocket fueled by kerosene and liquid oxygen (LOX).[133] The rocket by itself stood 67 feet (20 m) high; total height of the Atlas-Mercury space vehicle at launch was 95 feet (29 m).[135]\n",
      "The Atlas first stage was a booster skirt with two engines burning liquid fuel.[136][n 13] This, together with the larger sustainer second stage, gave it sufficient power to launch a Mercury spacecraft into orbit.[133] Both stages fired from lift-off with the thrust from the second stage sustainer engine passing through an opening in the first stage. After separation from the first stage, the sustainer stage continued alone. The sustainer also steered the rocket by thrusters guided by gyroscopes.[137] Smaller vernier rockets were added on its sides for precise control of maneuvers.[133]\n",
      "Little Joe assembling at Wallops Island\n",
      "Erection of Redstone at Launch Complex 5\n",
      "Unloading Atlas at Cape Canaveral\n",
      "Atlas - with spacecraft mounted - on launch pad at Launch Complex 14\n",
      "NASA announced the following seven astronauts – known as the Mercury Seven – on April 9, 1959:[138][139]\n",
      "Shepard became the first American in space by making a suborbital flight in May 1961.[140] He went on to fly in the Apollo program and became the only Mercury astronaut to walk on the Moon.[141] Gus Grissom, who became the second American in space, also participated in the Gemini and Apollo programs, but died in January 1967 during a pre-launch test for Apollo 1.[142] Glenn became the first American to orbit the Earth in February 1962, then quit NASA and went into politics, serving as a US Senator from 1974 to 1999, and returned to space in 1998 as a Payload Specialist aboard STS-95.[143] Deke Slayton was grounded in 1962, but remained with NASA and was appointed Chief Astronaut at the beginning of Project Gemini. He remained in the position of senior astronaut, in charge of space crew flight assignments among many other responsibilities, until towards the end of Project Apollo, when he resigned and began training to fly on the Apollo-Soyuz Test Project in 1975, which he successfully did.[144] Gordon Cooper became the last to fly in Mercury and made its longest flight, and also flew a Gemini mission.[145] Carpenter's Mercury flight was his only trip into space. Schirra flew the third orbital Mercury mission, and then flew a Gemini mission. Three years later, he commanded the first crewed Apollo mission, becoming the only person to fly in all three of those programs.\n",
      "One of the astronauts' tasks was publicity; they gave interviews to the press and visited project manufacturing facilities to speak with those who worked on Project Mercury.[146] To make their travels easier, they requested and got jet fighters for personal use.[147] The press was especially fond of John Glenn, who was considered the best speaker of the seven.[148] They sold their personal stories to Life magazine which portrayed them as patriotic, God-fearing family men.[149] Life was also allowed to be at home with the families while the astronauts were in space.[149] During the project, Grissom, Carpenter, Cooper, Schirra and Slayton stayed with their families at or near Langley Air Force Base; Glenn lived at the base and visited his family in Washington DC on weekends. Shepard lived with his family at Naval Air Station Oceana in Virginia.\n",
      "Other than Grissom, who was killed in the 1967 Apollo 1 fire, the other six survived past retirement[150] and died between 1993 and 2016.\n",
      "Mercury 7 astronaut assignments. Schirra had the most flights with three; Glenn, though being the first to leave NASA, had the last with a Space Shuttle mission in 1998.[151] Shepard was the only one to walk on the Moon.\n",
      "Prior to Project Mercury, there was no protocol for selecting astronauts so NASA would set a far reaching precedent with both their selection process and initial choices for astronaut. At the end of 1958, various ideas for the selection pool were discussed privately within the national government and the civilian space program, and also among the public at large. Initially, there was the idea to issue a widespread public call to volunteers. Thrill seekers such as rock climbers and acrobats would have been allowed to apply but this idea was quickly shot down by NASA officials who understood that an undertaking such as space flight required individuals with professional training and education in flight engineering. By late 1958, NASA officials decided to move forward with test pilots being the heart of their selection pool.[152] On President Eisenhower's insistence, the group was further narrowed down to active duty military test pilots, which set the number of candidates at 508 men[153] who were USN or USMC naval aviation pilots (NAPs), or USAF pilots of Senior or Command rating. These men had long military records, which would give NASA officials more background information on which to base their decisions. Furthermore, these men were adept at flying the most advanced aircraft to date, giving them the best qualifications for the new position of astronaut.[152] However, this selection excluded women since there were no female military test pilots at the time.[7] It also excluded civilian NASA X-15 pilot Neil Armstrong, though he had been selected by the US Air Force in 1958 for its Man in Space Soonest program, which was replaced by Mercury.[154] Although Armstrong had been a combat-experienced NAP during the Korean War, he left active duty in 1952.[7][n 14] Armstrong became NASA's first civilian astronaut in 1962 when he was selected for NASA's second group,[156] and became the first man on the Moon in 1969.[157]\n",
      "It was further stipulated that candidates should be between 25 and 40 years old, no taller than 5 ft 11 in (1.80 m), and hold a college degree in a STEM subject.[7] The college degree requirement excluded the USAF's X-1 pilot, then-Lt Col (later Brig Gen) Chuck Yeager, the first person to exceed the speed of sound.[158] He later became a critic of the project, ridiculing the civilian space program, labeling astronauts as \"spam in a can.\"[159] John Glenn did not have a college degree either, but used influential friends to make the selection committee accept him.[160] USAF Capt. (later Col.) Joseph Kittinger, a USAF fighter pilot and stratosphere balloonist, met all the requirements but preferred to stay in his contemporary project.[158] Other potential candidates declined because they did not believe that human spaceflight had a future beyond Project Mercury.[158][n 15] From the original 508, 110 candidates were selected for an interview, and from the interviews, 32 were selected for further physical and mental testing.[162]  Their health, vision, and hearing were examined, together with their tolerance to noise, vibrations, g-forces, personal isolation, and heat.[163][164] In a special chamber, they were tested to see if they could perform their tasks under confusing conditions.[163] The candidates had to answer more than 500 questions about themselves and describe what they saw in different images.[163] Navy Lt (later Capt) Jim Lovell, who was later an astronaut in the Gemini and Apollo programs, did not pass the physical tests.[158] After these tests it was intended to narrow the group down to six astronauts, but in the end it was decided to keep seven.[165]\n",
      "The astronauts went through a training program covering some of the same exercises that were used in their selection.[41] They simulated the g-force profiles of launch and reentry in a centrifuge at the Naval Air Development Center, and were taught special breathing techniques necessary when subjected to more than 6 g.[147] Weightlessness training took place in aircraft, first on the rear seat of a two-seater fighter and later inside converted and padded cargo aircraft.[166] They practiced gaining control of a spinning spacecraft in a machine at the Lewis Flight Propulsion Laboratory called the Multi-Axis Spin-Test Inertia Facility (MASTIF), by using an attitude controller handle simulating the one in the spacecraft.[167][168] A further measure for finding the right attitude in orbit was star and Earth recognition training in planetaria and simulators.[169] Communication and flight procedures were practiced in flight simulators, first together with a single person assisting them and later with the Mission Control Center.[170] Recovery was practiced in pools at Langley, and later at sea with frogmen and helicopter crews.[171]\n",
      "G-force training, Johnsville, 1960\n",
      "Weightlessness simulation in a C-131\n",
      "MASTIF at Lewis Research Center\n",
      "Flight trainer at Cape Canaveral\n",
      "Egress training at Langley\n",
      "A Redstone rocket was used to boost the capsule for 2 minutes and 30 seconds to an altitude of 32 nautical miles (59 km); the capsule continued ascending on a ballistic curve after booster separation.[172][173] The launch escape system was jettisoned at the same time. At the top of the curve, the spacecraft's retrorockets were fired for testing purposes; they were not necessary for reentry because orbital speed had not been attained. The spacecraft landed in the Atlantic Ocean.[174] The suborbital mission took about 15 minutes, had an apogee altitude of 102–103 nautical miles (189–191 km), and a downrange distance of 262 nautical miles (485 km).[145][175] From the time of booster-spacecraft separation until reentry where air started to slow down the spacecraft, the pilot would experience weightlessness as shown on the image.[n 16] The recovery procedure would be the same as an orbital mission.\n",
      "Preparations for a mission started a month in advance with the selection of the primary and back-up astronaut; they would practice together for the mission.[176] For three days prior to launch, the astronaut went through a special diet to minimize his need for defecating during the flight.[177] On the morning of the trip he typically ate a steak breakfast.[177] After having sensors applied to his body and being dressed in the pressure suit, he started breathing pure oxygen to prepare him for the atmosphere of the spacecraft.[178] He arrived at the launch pad, took the elevator up the launch tower and entered the spacecraft two hours before launch.[179][n 17] Once the astronaut was secured inside, the hatch was bolted, the launch area evacuated and the mobile tower rolled back.[180] After this, the launch vehicle was filled with liquid oxygen.[180] The entire procedure of preparing for launch and launching the spacecraft followed a time table called the countdown. It started a day in advance with a pre-count, in which all systems of the launch vehicle and spacecraft were checked. After that followed a 15-hour hold, during which pyrotechnics were installed. Then came the main countdown which for orbital flights started 6½ hours before launch (T – 390 min), counted backwards to launch (T = 0) and then forward until orbital insertion (T + 5 min).[179][n 18]\n",
      "On an orbital mission, the Atlas' rocket engines were ignited four seconds before lift-off. The launch vehicle was held to the ground by clamps and then released when sufficient thrust was built up at lift-off (A).[182] After 30 seconds of flight, the point of maximum dynamic pressure against the vehicle was reached, at which the astronaut felt heavy vibrations.[183] After 2 minutes and 10 seconds, the two outboard booster engines shut down and were released with the aft skirt, leaving the center sustainer engine running (B).[179] At this point, the launch escape system was no longer needed, and was separated from the spacecraft by its jettison rocket (C).[56][n 19] The space vehicle moved gradually to a horizontal attitude until, at an altitude of 87 nautical miles (161 km), the sustainer engine shut down and the spacecraft was inserted into orbit (D).[185] This happened after 5 minutes and 10 seconds in a direction pointing east, whereby the spacecraft would gain speed from the rotation of the Earth.[186][n 20] Here the spacecraft fired the three posigrade rockets for a second to separate it from the launch vehicle.[188][n 21] Just before orbital insertion and sustainer engine cutoff, g-loads peaked at 8 g (6 g for a suborbital flight).[183][190] In orbit, the spacecraft automatically turned 180°, pointed the retropackage forward and its nose 14.5° downward and kept this attitude for the rest of the orbital phase to facilitate communication with the ground.[191][192][n 22]\n",
      "Once in orbit, it was not possible for the spacecraft to change its trajectory except by initiating reentry.[194] Each orbit would typically take 88 minutes to complete.[195] The lowest point of the orbit, called perigee, was at about 87 nautical miles (161 km) altitude, and the highest point, called apogee, was about 150 nautical miles (280 km) altitude.[175] When leaving orbit (E), the angle of retrofire was 34° downward from the flight path angle.[191] Retrorockets fired for 10 seconds each (F) in a sequence where one started 5 seconds after the other.[188][196] During reentry (G), the astronaut would experience about 8 g (11–12 g on a suborbital mission).[197] The temperature around the heat shield rose to 3,000 °F (1,600 °C) and at the same time, there was a two-minute radio blackout due to ionization of the air around the spacecraft.[198][58]\n",
      "After reentry, a small, drogue parachute (H) was deployed at 21,000 ft (6,400 m) for stabilizing the spacecraft's descent.[68] The main parachute (I) was deployed at 10,000 ft (3,000 m) starting with a narrow opening that opened fully in a few seconds to lessen the strain on the lines.[199] Just before hitting the water, the landing bag inflated from behind the heat shield to reduce the force of impact (J).[199] Upon landing the parachutes were released.[65] An antenna (K) was raised and sent out signals that could be traced by ships and helicopters.[65] Further, a green marker dye was spread around the spacecraft to make its location more visible from the air.[65][n 23] Frogmen brought in by helicopters inflated a collar around the craft to keep it upright in the water.[201][n 24] The recovery helicopter hooked onto the spacecraft and the astronaut blew the escape hatch to exit the capsule.[64] He was then hoisted aboard the helicopter that finally brought both him and the spacecraft to the ship.[n 25]\n",
      "Mercury crewed launches\n",
      "John Glenn in orbit (Mercury-Atlas 6)\n",
      "Recovery seen from helicopter (Mercury-Redstone 3)\n",
      "The number of personnel supporting a Mercury mission was typically around 18,000, with about 15,000 people associated with recovery.[2][202][n 26] Most of the others followed the spacecraft from the World Wide Tracking Network, a chain of 18 stations placed around the equator, which was based on a network used for satellites and made ready in 1960.[204] It collected data from the spacecraft and provided two-way communication between the astronaut and the ground.[205] Each station had a range of 700 nautical miles (1,300 km) and a pass typically lasted 7 minutes.[206] Mercury astronauts on the ground would take the role of Capsule Communicator, or CAPCOM, who communicated with the astronaut in orbit.[207][208][n 27] Data from the spacecraft were sent to the ground, processed at the Goddard Space Center and relayed to the Mercury Control Center at Cape Canaveral.[209] In the Control Center, the data were displayed on boards on each side of a world map, which showed the position of the spacecraft, its ground track and the place it could land in an emergency within the next 30 minutes.[192]\n",
      "The World Wide Tracking Network went on to serve subsequent space programs, until it was replaced by a satellite relay system in the 1980s.[210] Mission Control Center was moved from Cape Canaveral to Houston in 1965.[211]\n",
      "Ground track and tracking stations for Mercury-Atlas 8. Spacecraft starts from Cape Canaveral in Florida and moves east; each new orbit-track is displaced to the left due to the rotation of the Earth. It moves between latitudes 32.5° north and 32.5° south.[212] Key: 1–6: orbit number. Yellow: launch. Black dot: tracking station. Red: range of station; Blue: landing.\n",
      "On April 12, 1961 the Soviet cosmonaut Yuri Gagarin became the first person in space on an orbital flight.[213] Alan Shepard became the first American in space on a suborbital flight three weeks later, on May 5, 1961.[140] John Glenn, the third Mercury astronaut to fly, became the first American to reach orbit on February 20, 1962, but only after the Soviets had launched a second cosmonaut, Gherman Titov, into a day-long flight in August 1961.[214] Three more Mercury orbital flights were made, ending on May 16, 1963 with a day-long, 22 orbit flight.[145] However, the Soviet Union ended its Vostok program the next month, with the human spaceflight endurance record set by the 82-orbit, almost 5-day Vostok 5 flight.[215]\n",
      "All of the six crewed Mercury flights were successful, though some planned flights were canceled during the project (see below).[145] The main medical problems encountered were simple personal hygiene, and post-flight symptoms of low blood pressure.[2] The launch vehicles had been tested through uncrewed flights, therefore the numbering of crewed missions did not start with 1.[216] Also, there were two separately numbered series: MR for \"Mercury-Redstone\" (suborbital flights), and MA for \"Mercury-Atlas\" (orbital flights). These names were not popularly used, since the astronauts followed a pilot tradition, each giving their spacecraft a name. They selected names ending with a \"7\" to commemorate the seven astronauts.[56][139] Times given are Universal Coordinated Time, local time + 5 hours. MA = Mercury-Atlas, MR = Mercury-Redstone, LC = Launch Complex.[n 28]\n",
      "Shepard's flight watched on TV in the White House. May 1961.\n",
      "John Glenn honored by the President. February 1962.\n",
      "USS Kearsarge with crew spelling Mercury-9. May 1963.\n",
      "The 20 uncrewed flights used Little Joe, Redstone, and Atlas launch vehicles.[139] They were used to develop the launch vehicles, launch escape system, spacecraft and tracking network.[216] One flight of a Scout rocket attempted to launch a satellite for testing the ground tracking network, but failed to reach orbit.  The Little Joe program used seven airframes for eight flights, of which three were successful. The second Little Joe flight was named Little Joe 6, because it was inserted into the program after the first 5 airframes had been allocated.[233][177]\n",
      "Little Joe 1B at launch with Miss Sam, 1960\n",
      "Mercury-Redstone 1: launch escape system lift-off after 4'' launch, 1960\n",
      "Mercury-Redstone 2: Ham, 1961\n",
      "Mercury-Atlas 5: Enos, 1961\n",
      "Nine of the planned flights were canceled. Suborbital flights were planned for four other astronauts but the number of flights was cut down gradually and finally all remaining were canceled after Titov's flight.[264][265][n 39] Mercury-Atlas 9 was intended to be followed by more one-day flights and even a three-day flight but with the coming of the Gemini Project it seemed unnecessary. The Jupiter booster was, as mentioned above, intended to be used for different purposes.\n",
      "Today the Mercury program is commemorated as the first American human space program.[274] It did not win the race against the Soviet Union, but gave back national prestige and was scientifically a successful precursor of later programs such as Gemini, Apollo and Skylab.[275][n 42]\n",
      "During the 1950s, some experts doubted that human spaceflight was possible.[n 43] Still, when John F. Kennedy was elected president, many, including he, had doubts about the project.[278] As president he chose to support the programs a few months before the launch of Freedom 7,[279] which became a public success.[280][n 44] Afterwards, a majority of the American public supported human spaceflight, and, within a few weeks, Kennedy announced a plan for a crewed mission to land on the Moon and return safely to Earth before the end of the 1960s.[284]\n",
      "The six astronauts who flew were awarded medals,[285] driven in parades and two of them were invited to address a joint session of the US Congress.[286] As a response to the selection criteria, which ruled out women, a private project was founded in which 13 women pilots successfully underwent the same tests as the men in Project Mercury.[287] It was named Mercury 13 by the media[288][n 45] Despite this effort, NASA did not select female astronauts until 1978 for the Space Shuttle.[289]\n",
      "On February 25, 2011, the Institute of Electrical and Electronics Engineers, the world's largest technical professional society, awarded Boeing (the successor company to McDonnell Aircraft) a Milestone Award for important inventions which debuted on the Mercury spacecraft.[290][n 46]\n",
      "On film, the program was portrayed in The Right Stuff, a 1983 adaptation of Tom Wolfe's 1979 book of the same name,[291] together with the HBO miniseries From the Earth to the Moon (1998), and Hidden Figures (2016).\n",
      "\n",
      "In 1964, a monument commemorating Project Mercury was unveiled near Launch Complex 14 at Cape Canaveral, featuring a metal logo combining the symbol of Mercury with the number 7.[292] In 1962, the United States Postal Service honored the Mercury-Atlas 6 flight with a Project Mercury commemorative stamp, the first US postal issue to depict a crewed spacecraft.[293][n 47] Mercury monument at Launch Complex 14, 1964\n",
      "Commemorative Project Mercury 4¢ US Postage stamp[n 48]\n",
      "The spacecraft that flew, together with some that did not, are on display in the United States. Friendship 7 (capsule No. 13) went on a global tour, popularly known as its \"fourth orbit\". [295]\n",
      "Freedom 7 at the United States Naval Academy, 2010, now exhibited at the John F. Kennedy Library and Museum\n",
      "Liberty Bell 7 at the Kansas Cosmosphere and Space Center, 2010\n",
      "Friendship 7 at the National Air and Space Museum, 2009\n",
      "Aurora 7 at the Museum of Science and Industry (Chicago), 2009\n",
      "Sigma 7 at the United States Astronaut Hall of Fame, 2011\n",
      "Faith 7 at Space Center Houston, 2011\n",
      "Commemorative patches were designed by entrepreneurs after the Mercury program to satisfy collectors.[296][n 49]\n",
      "John Glenn documentary from 50th Anniversary of Friendship 7, 2012.\n",
      "NASA illustration comparing boosters and spacecraft from Apollo (biggest), Gemini and Mercury (smallest).\n",
      "\n"
     ]
    }
   ],
   "source": [
    "print(url_to_text['https://en.wikipedia.org/wiki/Project_Mercury'])"
   ]
  },
  {
   "cell_type": "code",
   "execution_count": null,
   "metadata": {},
   "outputs": [],
   "source": []
  }
 ],
 "metadata": {
  "kernelspec": {
   "display_name": "Python 3",
   "language": "python",
   "name": "python3"
  },
  "language_info": {
   "codemirror_mode": {
    "name": "ipython",
    "version": 3
   },
   "file_extension": ".py",
   "mimetype": "text/x-python",
   "name": "python",
   "nbconvert_exporter": "python",
   "pygments_lexer": "ipython3",
   "version": "3.8.2"
  }
 },
 "nbformat": 4,
 "nbformat_minor": 2
}
