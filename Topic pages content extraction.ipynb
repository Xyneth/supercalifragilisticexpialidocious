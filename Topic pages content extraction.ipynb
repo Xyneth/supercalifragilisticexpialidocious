{
 "cells": [
  {
   "cell_type": "markdown",
   "metadata": {},
   "source": [
    "### Importing the packages"
   ]
  },
  {
   "cell_type": "code",
   "execution_count": null,
   "metadata": {},
   "outputs": [],
   "source": [
    "# Load the packages\n",
    "import requests\n",
    "from bs4 import BeautifulSoup"
   ]
  },
  {
   "cell_type": "markdown",
   "metadata": {},
   "source": [
    "### Making a GET request"
   ]
  },
  {
   "cell_type": "code",
   "execution_count": null,
   "metadata": {},
   "outputs": [],
   "source": [
    "# Defining the url of the site\n",
    "base_site = \"https://www.docdoc.com/info/specialty/pathologists/\"\n",
    "\n",
    "# Making a get request\n",
    "response = requests.get(base_site)\n",
    "response.status_code"
   ]
  },
  {
   "cell_type": "code",
   "execution_count": null,
   "metadata": {},
   "outputs": [],
   "source": [
    "# Extracting the HTML\n",
    "html = response.content\n",
    "\n",
    "# Checking that the reply is indeed an HTML code by inspecting the first 100 symbols\n",
    "html[:100]"
   ]
  },
  {
   "cell_type": "markdown",
   "metadata": {},
   "source": [
    "### Making the soup"
   ]
  },
  {
   "cell_type": "code",
   "execution_count": null,
   "metadata": {},
   "outputs": [],
   "source": [
    "# Convert HTML to a BeautifulSoup object.\n",
    "# Using the default parser as it is included in Python\n",
    "soup = BeautifulSoup(html, \"html.parser\")"
   ]
  },
  {
   "cell_type": "markdown",
   "metadata": {},
   "source": [
    "### Exporting the HTML to a file"
   ]
  },
  {
   "cell_type": "code",
   "execution_count": null,
   "metadata": {},
   "outputs": [],
   "source": [
    "# Exporting the HTML to a file\n",
    "with open('topic_pages_response.html', 'wb') as file:\n",
    "    file.write(soup.prettify('utf-8'))"
   ]
  },
  {
   "cell_type": "code",
   "execution_count": null,
   "metadata": {},
   "outputs": [],
   "source": [
    "# See the whole document\n",
    "soup"
   ]
  },
  {
   "cell_type": "code",
   "execution_count": null,
   "metadata": {},
   "outputs": [],
   "source": [
    "# Search for the topic page content\n",
    "soup.find('body')"
   ]
  },
  {
   "cell_type": "markdown",
   "metadata": {},
   "source": [
    "### Extracting the text"
   ]
  },
  {
   "cell_type": "code",
   "execution_count": null,
   "metadata": {
    "scrolled": false
   },
   "outputs": [],
   "source": [
    "# Extract the topic page content\n",
    "p = soup.find('div', class_ = 'rich-text')"
   ]
  },
  {
   "cell_type": "code",
   "execution_count": 48,
   "metadata": {},
   "outputs": [
    {
     "name": "stdout",
     "output_type": "stream",
     "text": [
      "Definition and Overview\n",
      "Pathology is a major field of medical science that plays a significant role in the diagnosis of diseases, especially cancer. It is generally known as the study of disease and thus, involves the analysis and sampling of tissues, cells, and body fluids. Pathologists commonly work with blood samples, semen, saliva, pleural fluid from the lungs, pericardial fluid from the heart, ascitic fluid from the liver, and cervical fluid. These samples are observed under a microscope, with pathologists keeping an eye out for any abnormalities in the cellular pattern. Abnormal growths in the body are also tested to determine whether they are cancerous or non-cancerous.\n",
      "Types of Pathology\n",
      "Pathology comes in three main types, namely:\n",
      "\n",
      "Clinical Pathology – Clinical pathology is involved with the analysis of urine, tissue samples, and blood, providing a lot of important information regarding each one, such as urine electrolytes, blood count, and so on.\n",
      "Anatomical Pathology – The anatomical branch of pathology examines either the whole body, in a process more commonly known as an autopsy, or bodily specimens that are surgically removed from the body. This type of pathology is used to determine a person's anatomical makeup, the chemical signatures of cells, and cell appearance.\n",
      "General Pathology – General pathology is the study of any disease that affects or causes abnormalities in the functioning and general structure of any part of the body. This branch of pathology determines the causes, mechanisms, and potential outcomes of the disease. It also analyzes the clinical abnormalities that serve as the markers of certain diseases. It also involves various branches of science such as chemistry, microbiology, and hematology.\n",
      "\n",
      "Branches of Pathology\n",
      "Pathology further branches out into several different categorizations, such as:\n",
      "\n",
      "Cytopathology – Also known as cytology, this refers to the study and diagnosis of cellular diseases. It is widely used in the diagnosis of cancer and other infectious and inflammatory conditions.\n",
      "Dermatopathology – This branch focuses on the skin as an organ as well as its diseases.\n",
      "Forensic Pathology – The primary goal of forensic pathology is to determine the cause of death of a deceased person. This is done through tissue examination, interpreting toxicology, and examining physical trauma.\n",
      "Histopathology – This involves microscopically examining the different forms of tissues present in the human body. It studies biopsy samples and surgical specimens.\n",
      "Neuropathology – This branch studies diseases affecting the tissues in the nervous system.\n",
      "Pulmonary Pathology – This branch diagnoses the diseases that affect the lungs by studying specimens usually taken from the body through bronchoscopic transbronchial biopsy or CT-assisted percutaneous biopsy.\n",
      "Renal Pathology – Focusing on diseases of the kidneys, renal pathologists assist nephrologists and transplant specialists in analyzing specimens obtained through a renal biopsy. The analysis is conducted through a microscope, an electron microscope, or through immunofluorescence.\n",
      "Surgical Pathology – Surgical pathology examines surgical specimens through a combination of gross and histologic analysis.\n",
      "Hematopathology – This specializes in the study of diseases that affect the red blood cells, white blood cells, and platelets. The main organs that are studied are those involved in the production of blood, such as the bone marrow, lymph nodes, spleen, thymus, and lymphoid tissues.\n",
      "Molecular Pathology – This branch of pathology studies and diagnoses the molecules that make up the organs and tissues of the body.\n",
      "Oral and Maxillofacial Pathology – Considered as one of the nine specialties of dental medicine, oral pathology studies diseases that affect the oral cavity and its surrounding structure.\n",
      "\n",
      "Components of Disease\n",
      "In the study of diseases, pathologists focus on four different components, which are:\n",
      "\n",
      "Causes – Medically known as the etiology of a disease, pathologists are largely concerned with determining what really causes a disease. In the case of forensic pathology where the bodies of the deceased are studied, the goal is to determine the cause of death.\n",
      "Mechanisms of development – Known as the pathogenesis of a disease, this refers to the biological mechanism that leads the body to a unwell or unhealthy state, from the disease's origin, development, all the way to its extent, i.e. if it is an acute, recurrent, or chronic disease. In summary, pathogenesis studies the process itself. Different pathogenesis of diseases includes bacterial pathogenesis, which studies how the bacteria cause a specific illness. Other types of pathogenesis are microbial infection, tissue malignancy, or inflammation.\n",
      "Structural cell alteration – Known as morphologic changes, pathology studies how a disease changes the cells of the body or what structural changes it causes at a cellular level.\n",
      "Clinical manifestations – This component of pathology refers to the consequences of cellular changes caused by the disease, or its direct effects on the body.\n",
      "\n",
      "Specialty: Pathologist\n",
      "A medical practitioner that specializes in pathology is called a pathologist, a physician who specializes in the diagnosis of diseases based upon tissue examination. The licensing requirements for pathologists differ by country, but they mostly require four years of undergraduate study, four years of training in medical school, and two to four years of residency, either in anatomical pathology or clinical pathology. A board-certified anatomical pathology will require a different residency training and board certification in clinical pathology.\n",
      "Due to the nature of their work, pathologists work closely with other medical practitioners. Their input is usually taken into consideration while the appropriate treatment plan is being constructed.\n",
      "When should you see a pathologist?\n",
      "Patients rarely have any direct contact with pathologists, despite the important role they play in the medical team and their significant contribution to the treatment plan. Due to the huge effect they can have on the treatment of a particular disease, it is important that both patient and attending physician have confidence in the pathologic results. However, since pathologist' role is primarily based in the laboratory, most patients do not know anything about the pathologist who diagnosed their disease. Since it is a challenge for patients to obtain information such as education and training background, as well as length of clinical experience regarding the pathologists handling their tissue samples, some patients or even their doctors request for second opinions from other pathologists, especially if diagnosis is initially inconclusive.\n",
      "\n",
      "\n",
      "References:\n",
      "\n",
      "Robbins, Stanley. (2010). “Robbins and Cotran pathologic basis of disease.” \n",
      "Rothstein W. (1979). “Pathology: The Evolution of a Specialty in American Medicine.” Medical Care. \n",
      "Long E. (1965). “History of Pathology.”\n",
      "Machevsky A, Wick MR. (2004). “Evidence-based Medicine, Medical Decision Analysis, and Pathology.” Human Pathology.\n",
      "\n"
     ]
    }
   ],
   "source": [
    "# semi-properly displayed text\n",
    "print(p.text)"
   ]
  }
 ],
 "metadata": {
  "kernelspec": {
   "display_name": "Python 3",
   "language": "python",
   "name": "python3"
  },
  "language_info": {
   "codemirror_mode": {
    "name": "ipython",
    "version": 3
   },
   "file_extension": ".py",
   "mimetype": "text/x-python",
   "name": "python",
   "nbconvert_exporter": "python",
   "pygments_lexer": "ipython3",
   "version": "3.8.2"
  }
 },
 "nbformat": 4,
 "nbformat_minor": 2
}
