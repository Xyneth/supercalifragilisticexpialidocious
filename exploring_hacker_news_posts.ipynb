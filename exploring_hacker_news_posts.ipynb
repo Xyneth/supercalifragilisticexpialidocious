{
 "cells": [
  {
   "cell_type": "markdown",
   "metadata": {
    "collapsed": true
   },
   "source": [
    "# Exploring Hacker News (HN) Posts\n",
    "\n",
    "### In which I ponder whether to ask or to show, and to stay beautiful or to be less youthful.\n",
    "\n",
    "---\n",
    "\n",
    "So, I actually have a question that lingers in my mind, and [Hacker News (HN)](https://news.ycombinator.com/) seems like an appropriate place to ask. \n",
    "\n",
    "Luckily, this guided project from Dataquest will help me explore the HN posts by analyzing these questions:\n",
    "1. **Do 'Ask HN' or 'Show HN' receive more comments on average?** 'Ask HN' is a post with a specific type of question, for example, [\"Side projects that are making money, but you'd not talk about them?\"](https://news.ycombinator.com/item?id=23438930), I bet you'd want to take a peek on this post haha.. and 'Show HN' is about interesting contents, could be a project or product, such as [\"Anytime, a Simple Time Converter\"](https://news.ycombinator.com/item?id=23437682). None of these were created by me, I just happened to stumble upon the posts and I think they're interesting!\n",
    "2. **Do posts created at a certain time receive more comments on average?** I'll refer to that neat 'Anytime' time converter stated above for the timezone name.\n",
    "\n",
    "Of course, there are other more important factors, such as the relevancy of the posts and whether the topic is general and/or popular or very niche. \n",
    "\n",
    "In my case, my question is quite niche and unpopular (trust me, I've searched the entire HN and found little to non-existent posts), so I don't really expect to get answers if I create an 'Ask HN' post. I even consider maybe I need to gauge the users' interest on that particular topic first by creating a 'Show HN' post and, if the points are high, then I can proceed with 'Ask HN'. Anyway! That sounds like me getting ahead of myself. Let's just keep things simple first and weigh the time factor and work from there.\n",
    "\n",
    "The dataset for this project can be found [here](https://www.kaggle.com/hacker-news/hacker-news-posts), and it has been reduced from almost 300,000 rows to approximately 20,000 rows by removing no-comments submissions, and then randomly sampled from the remaining submissions.\n",
    "\n",
    "And now, since I'm blabbering too much already, let's begin!\n",
    "\n",
    "*...oh, btw, my question is: \"What are the best Massive Open Online Courses (MOOCs) related to clinical/medical/healthcare informatics?\" Please contact me if you happened to know the answer, thanks :)* "
   ]
  },
  {
   "cell_type": "markdown",
   "metadata": {},
   "source": [
    "---\n",
    "## First, let's see the file..."
   ]
  },
  {
   "cell_type": "code",
   "execution_count": 1,
   "metadata": {
    "collapsed": false
   },
   "outputs": [
    {
     "data": {
      "text/plain": [
       "[['id', 'title', 'url', 'num_points', 'num_comments', 'author', 'created_at'],\n",
       " ['12224879',\n",
       "  'Interactive Dynamic Video',\n",
       "  'http://www.interactivedynamicvideo.com/',\n",
       "  '386',\n",
       "  '52',\n",
       "  'ne0phyte',\n",
       "  '8/4/2016 11:52'],\n",
       " ['10975351',\n",
       "  'How to Use Open Source and Shut the Fuck Up at the Same Time',\n",
       "  'http://hueniverse.com/2016/01/26/how-to-use-open-source-and-shut-the-fuck-up-at-the-same-time/',\n",
       "  '39',\n",
       "  '10',\n",
       "  'josep2',\n",
       "  '1/26/2016 19:30'],\n",
       " ['11964716',\n",
       "  \"Florida DJs May Face Felony for April Fools' Water Joke\",\n",
       "  'http://www.thewire.com/entertainment/2013/04/florida-djs-april-fools-water-joke/63798/',\n",
       "  '2',\n",
       "  '1',\n",
       "  'vezycash',\n",
       "  '6/23/2016 22:20'],\n",
       " ['11919867',\n",
       "  'Technology ventures: From Idea to Enterprise',\n",
       "  'https://www.amazon.com/Technology-Ventures-Enterprise-Thomas-Byers/dp/0073523429',\n",
       "  '3',\n",
       "  '1',\n",
       "  'hswarna',\n",
       "  '6/17/2016 0:01']]"
      ]
     },
     "execution_count": 1,
     "metadata": {},
     "output_type": "execute_result"
    }
   ],
   "source": [
    "import csv\n",
    "\n",
    "opened_file = open('hacker_news.csv')\n",
    "hn = list(csv.reader(opened_file))\n",
    "hn[:5]"
   ]
  },
  {
   "cell_type": "markdown",
   "metadata": {},
   "source": [
    "Before I dive in further, let's remove that distracting header from the first post."
   ]
  },
  {
   "cell_type": "code",
   "execution_count": 2,
   "metadata": {
    "collapsed": false
   },
   "outputs": [
    {
     "name": "stdout",
     "output_type": "stream",
     "text": [
      "['id', 'title', 'url', 'num_points', 'num_comments', 'author', 'created_at']\n",
      "[['12224879', 'Interactive Dynamic Video', 'http://www.interactivedynamicvideo.com/', '386', '52', 'ne0phyte', '8/4/2016 11:52'], ['10975351', 'How to Use Open Source and Shut the Fuck Up at the Same Time', 'http://hueniverse.com/2016/01/26/how-to-use-open-source-and-shut-the-fuck-up-at-the-same-time/', '39', '10', 'josep2', '1/26/2016 19:30'], ['11964716', \"Florida DJs May Face Felony for April Fools' Water Joke\", 'http://www.thewire.com/entertainment/2013/04/florida-djs-april-fools-water-joke/63798/', '2', '1', 'vezycash', '6/23/2016 22:20'], ['11919867', 'Technology ventures: From Idea to Enterprise', 'https://www.amazon.com/Technology-Ventures-Enterprise-Thomas-Byers/dp/0073523429', '3', '1', 'hswarna', '6/17/2016 0:01'], ['10301696', 'Note by Note: The Making of Steinway L1037 (2007)', 'http://www.nytimes.com/2007/11/07/movies/07stein.html?_r=0', '8', '2', 'walterbell', '9/30/2015 4:12']]\n"
     ]
    }
   ],
   "source": [
    "headers = hn[0]\n",
    "hn = hn[1:]\n",
    "print(headers)\n",
    "print(hn[:5])"
   ]
  },
  {
   "cell_type": "markdown",
   "metadata": {},
   "source": [
    "---\n",
    "\n",
    "## ...and now: to ask or to show?\n",
    "\n",
    "Since I'm interested in analyzing posts that contain 'Ask HN' and 'Show HN', let's create lists to separate these posts and see the distribution of the posts and their comments."
   ]
  },
  {
   "cell_type": "code",
   "execution_count": 3,
   "metadata": {
    "collapsed": false
   },
   "outputs": [
    {
     "name": "stdout",
     "output_type": "stream",
     "text": [
      "There are 1744 'Ask HN' posts, 1162 'Show HN' posts, and 17194 other HN posts.\n"
     ]
    }
   ],
   "source": [
    "ask_posts = []\n",
    "show_posts = []\n",
    "other_posts = []\n",
    "\n",
    "for row in hn:\n",
    "    title = row[1]\n",
    "    if title.lower().startswith('ask hn'):\n",
    "        ask_posts.append(row)\n",
    "    elif title.lower().startswith('show hn'):\n",
    "        show_posts.append(row)\n",
    "    else:\n",
    "        other_posts.append(row)\n",
    "        \n",
    "print(\"There are \" + str((len(ask_posts))) + \" 'Ask HN' posts, \"\n",
    "      + str((len(show_posts))) + \" 'Show HN' posts, and \"\n",
    "      + str((len(other_posts))) + \" other HN posts.\")"
   ]
  },
  {
   "cell_type": "code",
   "execution_count": 4,
   "metadata": {
    "collapsed": false
   },
   "outputs": [
    {
     "name": "stdout",
     "output_type": "stream",
     "text": [
      "Average 'Ask HN' comments is 14.04, while the average 'Show HN' comments is 10.32.\n"
     ]
    }
   ],
   "source": [
    "total_ask_comments = 0\n",
    "\n",
    "for row in ask_posts:\n",
    "    total_ask_comments += int(row[4])\n",
    "    \n",
    "avg_ask_comments = total_ask_comments / len(ask_posts)\n",
    "\n",
    "total_show_comments = 0\n",
    "\n",
    "for row in show_posts:\n",
    "    total_show_comments += int(row[4])\n",
    "    \n",
    "avg_show_comments = total_show_comments / len(show_posts)\n",
    "\n",
    "print(\"Average 'Ask HN' comments is {:.2f}\".format(avg_ask_comments)\n",
    "     + \", while the average 'Show HN' comments is {:.2f}.\".format(avg_show_comments) \n",
    ")"
   ]
  },
  {
   "cell_type": "markdown",
   "metadata": {},
   "source": [
    "It seems like 'Ask HN' posts received more love than 'Show HN' (14 and 10, respectively). Well, it makes total sense, isn't it? People ask questions, people give answers. Ok then, this indicates that I should just create the 'Ask HN' post rather than create the 'Show HN' first."
   ]
  },
  {
   "cell_type": "markdown",
   "metadata": {},
   "source": [
    "---\n",
    "\n",
    "## Next: to stay awake, or to rise early?\n",
    "\n",
    "Let's see if 'Ask HN' posts created at a certain time are more likely to attract comments by performing the following analyses:\n",
    "1. Calculate the amount of ask posts created in each hour of the day, along with the number of comments received.\n",
    "2. Calculate the average number of comments ask posts receive by hour created."
   ]
  },
  {
   "cell_type": "code",
   "execution_count": 5,
   "metadata": {
    "collapsed": false
   },
   "outputs": [
    {
     "data": {
      "text/plain": [
       "{'00': 447,\n",
       " '01': 683,\n",
       " '02': 1381,\n",
       " '03': 421,\n",
       " '04': 337,\n",
       " '05': 464,\n",
       " '06': 397,\n",
       " '07': 267,\n",
       " '08': 492,\n",
       " '09': 251,\n",
       " '10': 793,\n",
       " '11': 641,\n",
       " '12': 687,\n",
       " '13': 1253,\n",
       " '14': 1416,\n",
       " '15': 4477,\n",
       " '16': 1814,\n",
       " '17': 1146,\n",
       " '18': 1439,\n",
       " '19': 1188,\n",
       " '20': 1722,\n",
       " '21': 1745,\n",
       " '22': 479,\n",
       " '23': 543}"
      ]
     },
     "execution_count": 5,
     "metadata": {},
     "output_type": "execute_result"
    }
   ],
   "source": [
    "import datetime as dt\n",
    "\n",
    "result_list = []\n",
    "\n",
    "for row in ask_posts:\n",
    "    created = row[6]\n",
    "    comments = int(row[4])\n",
    "    result_list.append([created, comments])\n",
    "    \n",
    "counts_by_hour = {}\n",
    "comments_by_hour = {}\n",
    "date_format = \"%m/%d/%Y %H:%M\"\n",
    "\n",
    "for row in result_list:\n",
    "    date = row[0]\n",
    "    comment = row [1]\n",
    "    time = dt.datetime.strptime(date, date_format).strftime(\"%H\")\n",
    "    if time not in counts_by_hour:\n",
    "        counts_by_hour[time] = 1\n",
    "        comments_by_hour[time] = comment\n",
    "    else:\n",
    "        counts_by_hour[time] += 1\n",
    "        comments_by_hour[time] += comment\n",
    "\n",
    "comments_by_hour"
   ]
  },
  {
   "cell_type": "code",
   "execution_count": 6,
   "metadata": {
    "collapsed": false,
    "scrolled": true
   },
   "outputs": [
    {
     "data": {
      "text/plain": [
       "[['02', 23.810344827586206],\n",
       " ['23', 7.985294117647059],\n",
       " ['20', 21.525],\n",
       " ['18', 13.20183486238532],\n",
       " ['07', 7.852941176470588],\n",
       " ['10', 13.440677966101696],\n",
       " ['12', 9.41095890410959],\n",
       " ['06', 9.022727272727273],\n",
       " ['13', 14.741176470588234],\n",
       " ['00', 8.127272727272727],\n",
       " ['14', 13.233644859813085],\n",
       " ['05', 10.08695652173913],\n",
       " ['09', 5.5777777777777775],\n",
       " ['01', 11.383333333333333],\n",
       " ['03', 7.796296296296297],\n",
       " ['11', 11.051724137931034],\n",
       " ['22', 6.746478873239437],\n",
       " ['21', 16.009174311926607],\n",
       " ['15', 38.5948275862069],\n",
       " ['19', 10.8],\n",
       " ['17', 11.46],\n",
       " ['04', 7.170212765957447],\n",
       " ['08', 10.25],\n",
       " ['16', 16.796296296296298]]"
      ]
     },
     "execution_count": 6,
     "metadata": {},
     "output_type": "execute_result"
    }
   ],
   "source": [
    "avg_by_hour = []\n",
    "\n",
    "for hour in comments_by_hour:\n",
    "    avg_by_hour.append([hour, comments_by_hour[hour] / counts_by_hour[hour]])\n",
    "    \n",
    "avg_by_hour"
   ]
  },
  {
   "cell_type": "markdown",
   "metadata": {},
   "source": [
    "Um, this is a little confusing. Let's just sort it by the average value and swap the hour and the average."
   ]
  },
  {
   "cell_type": "code",
   "execution_count": 7,
   "metadata": {
    "collapsed": false,
    "scrolled": true
   },
   "outputs": [
    {
     "data": {
      "text/plain": [
       "[[38.5948275862069, '15'],\n",
       " [23.810344827586206, '02'],\n",
       " [21.525, '20'],\n",
       " [16.796296296296298, '16'],\n",
       " [16.009174311926607, '21'],\n",
       " [14.741176470588234, '13'],\n",
       " [13.440677966101696, '10'],\n",
       " [13.233644859813085, '14'],\n",
       " [13.20183486238532, '18'],\n",
       " [11.46, '17'],\n",
       " [11.383333333333333, '01'],\n",
       " [11.051724137931034, '11'],\n",
       " [10.8, '19'],\n",
       " [10.25, '08'],\n",
       " [10.08695652173913, '05'],\n",
       " [9.41095890410959, '12'],\n",
       " [9.022727272727273, '06'],\n",
       " [8.127272727272727, '00'],\n",
       " [7.985294117647059, '23'],\n",
       " [7.852941176470588, '07'],\n",
       " [7.796296296296297, '03'],\n",
       " [7.170212765957447, '04'],\n",
       " [6.746478873239437, '22'],\n",
       " [5.5777777777777775, '09']]"
      ]
     },
     "execution_count": 7,
     "metadata": {},
     "output_type": "execute_result"
    }
   ],
   "source": [
    "swap_avg_by_hour = []\n",
    "\n",
    "for row in avg_by_hour:\n",
    "    swap_avg_by_hour.append([row[1], row[0]])\n",
    "\n",
    "sorted_swap = sorted(swap_avg_by_hour, reverse=True)\n",
    "\n",
    "sorted_swap"
   ]
  },
  {
   "cell_type": "markdown",
   "metadata": {},
   "source": [
    "Now, let's see the top 5 hours for 'Ask HN' posts comments."
   ]
  },
  {
   "cell_type": "code",
   "execution_count": 8,
   "metadata": {
    "collapsed": false
   },
   "outputs": [
    {
     "name": "stdout",
     "output_type": "stream",
     "text": [
      "Top 5 Hours for 'Ask HN' Posts Comments\n",
      "15:00: 38.59 average comments per post\n",
      "02:00: 23.81 average comments per post\n",
      "20:00: 21.52 average comments per post\n",
      "16:00: 16.80 average comments per post\n",
      "21:00: 16.01 average comments per post\n"
     ]
    }
   ],
   "source": [
    "print(\"Top 5 Hours for 'Ask HN' Posts Comments\")\n",
    "for each_average, each_hour in sorted_swap[:5]:\n",
    "    top_5 = \"{}: {:.2f} average comments per post\"\n",
    "    print(top_5.format(\n",
    "            dt.datetime.strptime(each_hour, \"%H\").strftime(\"%H:%M\"),each_average\n",
    "        )\n",
    "    )"
   ]
  },
  {
   "cell_type": "markdown",
   "metadata": {},
   "source": [
    "Since the [documentation](https://www.kaggle.com/hacker-news/hacker-news-posts) pointed out that the timezone used is EST, and I live on the other side of the world (GMT +7), this will determine whether I can get my beauty sleep or not. Hopefully so. \n",
    "\n",
    "Now, let's create a function to convert the timezone (I got these awesome codes from Stack Overflow)."
   ]
  },
  {
   "cell_type": "code",
   "execution_count": 9,
   "metadata": {
    "collapsed": false
   },
   "outputs": [],
   "source": [
    "import datetime\n",
    "import pytz\n",
    "\n",
    "def convert_datetime_timezone(dt, tz1, tz2):\n",
    "    tz1 = pytz.timezone(tz1)\n",
    "    tz2 = pytz.timezone(tz2)\n",
    "\n",
    "    dt = datetime.datetime.strptime(dt,\"%H\")\n",
    "    dt = tz1.localize(dt)\n",
    "    dt = dt.astimezone(tz2)\n",
    "    dt = dt.strftime(\"%H\")\n",
    "    \n",
    "    return dt\n",
    "\n",
    "for row in sorted_swap[:5]:\n",
    "    convert_datetime_timezone(row[1], \"US/Eastern\", \"Asia/Jakarta\")"
   ]
  },
  {
   "cell_type": "markdown",
   "metadata": {},
   "source": [
    "Perfect. I've spent hours on understanding and applying this chunk of code into my for loop. Phew.\n",
    "\n",
    "Now, let's see the top 5 hours in my local timezone for 'Ask HN' posts comments."
   ]
  },
  {
   "cell_type": "code",
   "execution_count": 10,
   "metadata": {
    "collapsed": false
   },
   "outputs": [
    {
     "name": "stdout",
     "output_type": "stream",
     "text": [
      "Top 5 Hours for 'Ask HN' Posts Comments (GMT +7)\n",
      "03:00: 38.59 average comments per post\n",
      "14:00: 23.81 average comments per post\n",
      "08:00: 21.52 average comments per post\n",
      "04:00: 16.80 average comments per post\n",
      "09:00: 16.01 average comments per post\n"
     ]
    }
   ],
   "source": [
    "print(\"Top 5 Hours for 'Ask HN' Posts Comments (GMT +7)\")\n",
    "for each_average, each_hour in sorted_swap[:5]:\n",
    "    top_5 = \"{}: {:.2f} average comments per post\"\n",
    "    newhr = convert_datetime_timezone(each_hour, \"US/Eastern\", \"Asia/Jakarta\")\n",
    "    print(top_5.format(\n",
    "            dt.datetime.strptime(newhr, \"%H\").strftime(\"%H:%M\"),each_average\n",
    "        )\n",
    "    )"
   ]
  },
  {
   "cell_type": "markdown",
   "metadata": {},
   "source": [
    "Uh, oh. 3 AM?! Bye, beauty sleep :(\n",
    "\n",
    "---"
   ]
  },
  {
   "cell_type": "markdown",
   "metadata": {},
   "source": [
    "## Go on, feed your curiosity on 'points'\n",
    "\n",
    "The project is actually done on that 'Top 5 Hours'. Yay!\n",
    "\n",
    "But... yeah, I can't just ignore that 'points' data now that I have some thoughts on it.\n",
    "\n",
    "As I've mentioned before, 'Ask HN' may receive more comments because people obviously would give answers. On a closer look, the dataset provides us with another interesting data point called 'points'.\n",
    "\n",
    "Maybe, 'points' to 'Show HN' posts is like 'comments' to 'Ask HN' posts. It's possible that the more interesting the content shared in the 'Show HN' posts, more points may be received. And while we're at it, let's weigh the time factor as well. \n",
    "\n",
    "Let's check it out!"
   ]
  },
  {
   "cell_type": "code",
   "execution_count": 11,
   "metadata": {
    "collapsed": false,
    "scrolled": true
   },
   "outputs": [
    {
     "name": "stdout",
     "output_type": "stream",
     "text": [
      "Average 'Ask HN' points is 15.06, while the average 'Show HN' points is 27.56.\n"
     ]
    }
   ],
   "source": [
    "# Average point on 'Ask HN' posts\n",
    "total_ask_points = 0\n",
    "\n",
    "for row in ask_posts:\n",
    "    total_ask_points += int(row[3])\n",
    "\n",
    "avg_ask_points = total_ask_points / len(ask_posts)\n",
    "\n",
    "# Average point on 'Show HN' posts\n",
    "total_show_points = 0\n",
    "\n",
    "for row in show_posts:\n",
    "    total_show_points += int(row[3])\n",
    "\n",
    "avg_show_points = total_show_points / len(show_posts)\n",
    "\n",
    "print(\"Average 'Ask HN' points is {:.2f}\".format(avg_ask_points)\n",
    "     + \", while the average 'Show HN' points is {:.2f}.\".format(avg_show_points))"
   ]
  },
  {
   "cell_type": "markdown",
   "metadata": {},
   "source": [
    "Whoa, my guess is correct! 'Show HN' posts have better average points than 'Ask HN' posts. \n",
    "\n",
    "So, let's focus only on 'Show HN' posts here, and check at what times (in my local time) do these 'Show HN' posts receive more points, and their average amount of points received at each hour of the day."
   ]
  },
  {
   "cell_type": "code",
   "execution_count": 12,
   "metadata": {
    "collapsed": false
   },
   "outputs": [
    {
     "name": "stdout",
     "output_type": "stream",
     "text": [
      "Top 5 Hours for 'Show HN' Posts Points (GMT +7)\n",
      "11:00: 42.39 average comments per post\n",
      "00:00: 41.69 average comments per post\n",
      "10:00: 40.35 average comments per post\n",
      "12:00: 37.84 average comments per post\n",
      "06:00: 36.31 average comments per post\n"
     ]
    }
   ],
   "source": [
    "# Calculate the amount of 'Show HN' posts created during each hour of day \n",
    "# and the number of points received.\n",
    "\n",
    "import datetime as dt\n",
    "\n",
    "result_list = []\n",
    "\n",
    "for row in show_posts:\n",
    "    created = row[6]\n",
    "    points = int(row[3])\n",
    "    result_list.append([created, points])\n",
    "    \n",
    "counts_by_hour = {}\n",
    "points_by_hour = {}\n",
    "date_format = \"%m/%d/%Y %H:%M\"\n",
    "\n",
    "for row in result_list:\n",
    "    date = row[0]\n",
    "    point = row [1]\n",
    "    time = dt.datetime.strptime(date, date_format).strftime(\"%H\")\n",
    "    if time not in counts_by_hour:\n",
    "        counts_by_hour[time] = 1\n",
    "        points_by_hour[time] = point\n",
    "    else:\n",
    "        counts_by_hour[time] += 1\n",
    "        points_by_hour[time] += point\n",
    "\n",
    "# Calculate the average amount of points `Show HN` posts created \n",
    "# at each hour of the day receive, sorted and swapped.\n",
    "\n",
    "avg_by_hour = []\n",
    "\n",
    "for hour in points_by_hour:\n",
    "    avg_by_hour.append([hour, points_by_hour[hour] / counts_by_hour[hour]])\n",
    "    \n",
    "swap_avg_by_hour = []\n",
    "\n",
    "for row in avg_by_hour:\n",
    "    swap_avg_by_hour.append([row[1], row[0]])\n",
    "\n",
    "sorted_swap = sorted(swap_avg_by_hour, reverse=True)\n",
    "\n",
    "# Now print the the 5 hours with the highest average points in local time\n",
    "\n",
    "print(\"Top 5 Hours for 'Show HN' Posts Points (GMT +7)\")\n",
    "for each_average, each_hour in sorted_swap[:5]:\n",
    "    top_5 = \"{}: {:.2f} average comments per post\"\n",
    "    newhr = convert_datetime_timezone(each_hour, \"US/Eastern\", \"Asia/Jakarta\")\n",
    "    print(top_5.format(\n",
    "            dt.datetime.strptime(newhr, \"%H\").strftime(\"%H:%M\"),each_average\n",
    "        )\n",
    "    )"
   ]
  },
  {
   "cell_type": "markdown",
   "metadata": {},
   "source": [
    "This is relieving. Look at those lovely afternoon times for me to post 'Show HN' to get more points. \n",
    "\n",
    "---"
   ]
  },
  {
   "cell_type": "markdown",
   "metadata": {},
   "source": [
    "## What about the 'other HN' posts?\n",
    "\n",
    "I suspect that 'other HN' posts will score higher in both average comments and points. Let's see."
   ]
  },
  {
   "cell_type": "code",
   "execution_count": 13,
   "metadata": {
    "collapsed": false,
    "scrolled": false
   },
   "outputs": [
    {
     "name": "stdout",
     "output_type": "stream",
     "text": [
      "Average 'Ask HN' comments is 14.04.\n",
      "Average 'Show HN' comments is 10.32.\n",
      "Average 'other HN' comments is 26.87.\n",
      "\n",
      "\n",
      "Average 'Ask HN' points is 15.06.\n",
      "Average 'Show HN' points is 27.56.\n",
      "Average 'other HN' points is 55.41.\n"
     ]
    }
   ],
   "source": [
    "# Average number of comments `other HN` posts receive.\n",
    "total_other_comments = 0\n",
    "\n",
    "for row in other_posts:\n",
    "    total_other_comments += int(row[4])\n",
    "    \n",
    "avg_other_comments = total_other_comments / len(other_posts)\n",
    "\n",
    "# Average point on 'other HN' posts\n",
    "total_other_points = 0\n",
    "\n",
    "for row in other_posts:\n",
    "    total_other_points += int(row[3])\n",
    "\n",
    "avg_other_points = total_other_points / len(other_posts)\n",
    "\n",
    "print(\"Average 'Ask HN' comments is {:.2f}.\".format(avg_ask_comments))\n",
    "print(\"Average 'Show HN' comments is {:.2f}.\".format(avg_show_comments))\n",
    "print(\"Average 'other HN' comments is {:.2f}.\".format(avg_other_comments))\n",
    "print(\"\\n\")\n",
    "print(\"Average 'Ask HN' points is {:.2f}.\".format(avg_ask_points))\n",
    "print(\"Average 'Show HN' points is {:.2f}.\".format(avg_show_points))\n",
    "print(\"Average 'other HN' points is {:.2f}.\".format(avg_other_points))"
   ]
  },
  {
   "cell_type": "markdown",
   "metadata": {},
   "source": [
    "Yup, for 'other HN' posts, both of the average comments and points are higher than 'Ask HN' and 'Show HN' posts. \n",
    "\n",
    "Since average point for 'other HN' posts is higher than the comments, let's focus on the top 5 hours to get more points for 'other HN' posts."
   ]
  },
  {
   "cell_type": "code",
   "execution_count": 14,
   "metadata": {
    "collapsed": false,
    "scrolled": true
   },
   "outputs": [
    {
     "name": "stdout",
     "output_type": "stream",
     "text": [
      "Top 5 Hours for 'other HN' Posts Points (GMT +7)\n",
      "01:00: 62.53 average comments per post\n",
      "02:00: 61.79 average comments per post\n",
      "03:00: 60.54 average comments per post\n",
      "22:00: 60.48 average comments per post\n",
      "07:00: 60.01 average comments per post\n"
     ]
    }
   ],
   "source": [
    "# Calculate the amount of 'other HN' posts created during each hour of day \n",
    "# and the number of points received.\n",
    "\n",
    "import datetime as dt\n",
    "\n",
    "result_list = []\n",
    "\n",
    "for row in other_posts:\n",
    "    created = row[6]\n",
    "    points = int(row[3])\n",
    "    result_list.append([created, points])\n",
    "    \n",
    "counts_by_hour = {}\n",
    "points_by_hour = {}\n",
    "date_format = \"%m/%d/%Y %H:%M\"\n",
    "\n",
    "for row in result_list:\n",
    "    date = row[0]\n",
    "    point = row [1]\n",
    "    time = dt.datetime.strptime(date, date_format).strftime(\"%H\")\n",
    "    if time not in counts_by_hour:\n",
    "        counts_by_hour[time] = 1\n",
    "        points_by_hour[time] = point\n",
    "    else:\n",
    "        counts_by_hour[time] += 1\n",
    "        points_by_hour[time] += point\n",
    "\n",
    "# Calculate the average amount of points `other HN` posts created \n",
    "# at each hour of the day receive, sorted and swapped.\n",
    "\n",
    "avg_by_hour = []\n",
    "\n",
    "for hour in points_by_hour:\n",
    "    avg_by_hour.append([hour, points_by_hour[hour] / counts_by_hour[hour]])\n",
    "    \n",
    "swap_avg_by_hour = []\n",
    "\n",
    "for row in avg_by_hour:\n",
    "    swap_avg_by_hour.append([row[1], row[0]])\n",
    "\n",
    "sorted_swap = sorted(swap_avg_by_hour, reverse=True)\n",
    "\n",
    "# Now print the the 5 hours with the highest average points in local time\n",
    "\n",
    "print(\"Top 5 Hours for 'other HN' Posts Points (GMT +7)\")\n",
    "for each_average, each_hour in sorted_swap[:5]:\n",
    "    top_5 = \"{}: {:.2f} average comments per post\"\n",
    "    newhr = convert_datetime_timezone(each_hour, \"US/Eastern\", \"Asia/Jakarta\")\n",
    "    print(top_5.format(\n",
    "            dt.datetime.strptime(newhr, \"%H\").strftime(\"%H:%M\"),each_average\n",
    "        )\n",
    "    )"
   ]
  },
  {
   "cell_type": "markdown",
   "metadata": {},
   "source": [
    "Ooookay, the top 5 hours are again the enemy of my beauty sleep LOL\n",
    "\n",
    "---"
   ]
  },
  {
   "cell_type": "markdown",
   "metadata": {},
   "source": [
    "## Conclusion\n",
    "### ...less youthful yet stay beautiful.\n",
    "\n",
    "Well, I need to do the following if I want to get more comments and more points on HN posts:\n",
    "1. Post my question by using the 'Ask HN' to maximize comments or create an 'other HN' post to maximize points at 3 AM. No beauty sleep.\n",
    "2. Create a 'Show HN' post related to my question and expect more points in this post compared to the 'Ask HN' post (in which I expect more comments) in the afternoon. Yes beauty sleep.\n",
    "\n",
    "---\n",
    "\n",
    "## Extras\n",
    "### Homework\n",
    "\n",
    "I need to learn on how to incorporate Daylight Saving Time (DST) in the code. Perhaps by factoring in dates and maybe those fascinating equinoxes and solstices.\n",
    "\n",
    "### So I really did test this on HN!\n",
    "...but unfortunately, [my 'Ask HN' post](https://news.ycombinator.com/item?id=23441496) received no reply :( This is okay since I'm just considering one factor (i.e. time) and the topic itself is not a popular/general HN topic.\n",
    "\n",
    "Anyway, this was a fun project and well-worth a lack of beauty sleep :p"
   ]
  }
 ],
 "metadata": {
  "kernelspec": {
   "display_name": "Python 3",
   "language": "python",
   "name": "python3"
  },
  "language_info": {
   "codemirror_mode": {
    "name": "ipython",
    "version": 3
   },
   "file_extension": ".py",
   "mimetype": "text/x-python",
   "name": "python",
   "nbconvert_exporter": "python",
   "pygments_lexer": "ipython3",
   "version": "3.4.3"
  }
 },
 "nbformat": 4,
 "nbformat_minor": 2
}
