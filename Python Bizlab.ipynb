{
 "cells": [
  {
   "cell_type": "markdown",
   "metadata": {},
   "source": [
    "## PDS 09 - Data Visualization"
   ]
  },
  {
   "cell_type": "markdown",
   "metadata": {},
   "source": [
    "Dataset: [Iris](https://archive.ics.uci.edu/ml/datasets/iris) dan [Wine Reviews](https://www.kaggle.com/zynicide/wine-reviews/data)"
   ]
  },
  {
   "cell_type": "code",
   "execution_count": 68,
   "metadata": {
    "ExecuteTime": {
     "end_time": "2020-07-01T13:39:15.091071Z",
     "start_time": "2020-07-01T13:39:15.073044Z"
    },
    "scrolled": true
   },
   "outputs": [
    {
     "name": "stdout",
     "output_type": "stream",
     "text": [
      "   sepal_length  sepal_width  petal length  petal_width        class\n",
      "0           5.1          3.5           1.4          0.2  Iris-setosa\n",
      "1           4.9          3.0           1.4          0.2  Iris-setosa\n",
      "2           4.7          3.2           1.3          0.2  Iris-setosa\n",
      "3           4.6          3.1           1.5          0.2  Iris-setosa\n",
      "4           5.0          3.6           1.4          0.2  Iris-setosa\n",
      "     sepal_length  sepal_width  petal length  petal_width           class\n",
      "145           6.7          3.0           5.2          2.3  Iris-virginica\n",
      "146           6.3          2.5           5.0          1.9  Iris-virginica\n",
      "147           6.5          3.0           5.2          2.0  Iris-virginica\n",
      "148           6.2          3.4           5.4          2.3  Iris-virginica\n",
      "149           5.9          3.0           5.1          1.8  Iris-virginica\n"
     ]
    }
   ],
   "source": [
    "import pandas as pd\n",
    "iris = pd.read_csv('/Users/clinicalinformaticsphysician/Documents/Clinical informatics/Data analysis/iris.csv',\n",
    "                  names = ['sepal_length', 'sepal_width', 'petal length',\n",
    "                           'petal_width', 'class'])\n",
    "print(iris.head())\n",
    "print(iris.tail())"
   ]
  },
  {
   "cell_type": "markdown",
   "metadata": {},
   "source": [
    "Terdapat 150 variabel dan 5 datapoin di dataset Iris."
   ]
  },
  {
   "cell_type": "code",
   "execution_count": 70,
   "metadata": {
    "ExecuteTime": {
     "end_time": "2020-07-01T13:40:30.090929Z",
     "start_time": "2020-07-01T13:40:29.025783Z"
    },
    "scrolled": false
   },
   "outputs": [
    {
     "data": {
      "text/html": [
       "<div>\n",
       "<style scoped>\n",
       "    .dataframe tbody tr th:only-of-type {\n",
       "        vertical-align: middle;\n",
       "    }\n",
       "\n",
       "    .dataframe tbody tr th {\n",
       "        vertical-align: top;\n",
       "    }\n",
       "\n",
       "    .dataframe thead th {\n",
       "        text-align: right;\n",
       "    }\n",
       "</style>\n",
       "<table border=\"1\" class=\"dataframe\">\n",
       "  <thead>\n",
       "    <tr style=\"text-align: right;\">\n",
       "      <th></th>\n",
       "      <th>country</th>\n",
       "      <th>description</th>\n",
       "      <th>designation</th>\n",
       "      <th>points</th>\n",
       "      <th>price</th>\n",
       "      <th>province</th>\n",
       "      <th>region_1</th>\n",
       "      <th>region_2</th>\n",
       "      <th>taster_name</th>\n",
       "      <th>taster_twitter_handle</th>\n",
       "      <th>title</th>\n",
       "      <th>variety</th>\n",
       "      <th>winery</th>\n",
       "    </tr>\n",
       "  </thead>\n",
       "  <tbody>\n",
       "    <tr>\n",
       "      <th>0</th>\n",
       "      <td>Italy</td>\n",
       "      <td>Aromas include tropical fruit, broom, brimston...</td>\n",
       "      <td>Vulkà Bianco</td>\n",
       "      <td>87</td>\n",
       "      <td>NaN</td>\n",
       "      <td>Sicily &amp; Sardinia</td>\n",
       "      <td>Etna</td>\n",
       "      <td>NaN</td>\n",
       "      <td>Kerin O’Keefe</td>\n",
       "      <td>@kerinokeefe</td>\n",
       "      <td>Nicosia 2013 Vulkà Bianco  (Etna)</td>\n",
       "      <td>White Blend</td>\n",
       "      <td>Nicosia</td>\n",
       "    </tr>\n",
       "    <tr>\n",
       "      <th>1</th>\n",
       "      <td>Portugal</td>\n",
       "      <td>This is ripe and fruity, a wine that is smooth...</td>\n",
       "      <td>Avidagos</td>\n",
       "      <td>87</td>\n",
       "      <td>15.0</td>\n",
       "      <td>Douro</td>\n",
       "      <td>NaN</td>\n",
       "      <td>NaN</td>\n",
       "      <td>Roger Voss</td>\n",
       "      <td>@vossroger</td>\n",
       "      <td>Quinta dos Avidagos 2011 Avidagos Red (Douro)</td>\n",
       "      <td>Portuguese Red</td>\n",
       "      <td>Quinta dos Avidagos</td>\n",
       "    </tr>\n",
       "    <tr>\n",
       "      <th>2</th>\n",
       "      <td>US</td>\n",
       "      <td>Tart and snappy, the flavors of lime flesh and...</td>\n",
       "      <td>NaN</td>\n",
       "      <td>87</td>\n",
       "      <td>14.0</td>\n",
       "      <td>Oregon</td>\n",
       "      <td>Willamette Valley</td>\n",
       "      <td>Willamette Valley</td>\n",
       "      <td>Paul Gregutt</td>\n",
       "      <td>@paulgwine</td>\n",
       "      <td>Rainstorm 2013 Pinot Gris (Willamette Valley)</td>\n",
       "      <td>Pinot Gris</td>\n",
       "      <td>Rainstorm</td>\n",
       "    </tr>\n",
       "    <tr>\n",
       "      <th>3</th>\n",
       "      <td>US</td>\n",
       "      <td>Pineapple rind, lemon pith and orange blossom ...</td>\n",
       "      <td>Reserve Late Harvest</td>\n",
       "      <td>87</td>\n",
       "      <td>13.0</td>\n",
       "      <td>Michigan</td>\n",
       "      <td>Lake Michigan Shore</td>\n",
       "      <td>NaN</td>\n",
       "      <td>Alexander Peartree</td>\n",
       "      <td>NaN</td>\n",
       "      <td>St. Julian 2013 Reserve Late Harvest Riesling ...</td>\n",
       "      <td>Riesling</td>\n",
       "      <td>St. Julian</td>\n",
       "    </tr>\n",
       "    <tr>\n",
       "      <th>4</th>\n",
       "      <td>US</td>\n",
       "      <td>Much like the regular bottling from 2012, this...</td>\n",
       "      <td>Vintner's Reserve Wild Child Block</td>\n",
       "      <td>87</td>\n",
       "      <td>65.0</td>\n",
       "      <td>Oregon</td>\n",
       "      <td>Willamette Valley</td>\n",
       "      <td>Willamette Valley</td>\n",
       "      <td>Paul Gregutt</td>\n",
       "      <td>@paulgwine</td>\n",
       "      <td>Sweet Cheeks 2012 Vintner's Reserve Wild Child...</td>\n",
       "      <td>Pinot Noir</td>\n",
       "      <td>Sweet Cheeks</td>\n",
       "    </tr>\n",
       "  </tbody>\n",
       "</table>\n",
       "</div>"
      ],
      "text/plain": [
       "    country                                        description  \\\n",
       "0     Italy  Aromas include tropical fruit, broom, brimston...   \n",
       "1  Portugal  This is ripe and fruity, a wine that is smooth...   \n",
       "2        US  Tart and snappy, the flavors of lime flesh and...   \n",
       "3        US  Pineapple rind, lemon pith and orange blossom ...   \n",
       "4        US  Much like the regular bottling from 2012, this...   \n",
       "\n",
       "                          designation  points  price           province  \\\n",
       "0                        Vulkà Bianco      87    NaN  Sicily & Sardinia   \n",
       "1                            Avidagos      87   15.0              Douro   \n",
       "2                                 NaN      87   14.0             Oregon   \n",
       "3                Reserve Late Harvest      87   13.0           Michigan   \n",
       "4  Vintner's Reserve Wild Child Block      87   65.0             Oregon   \n",
       "\n",
       "              region_1           region_2         taster_name  \\\n",
       "0                 Etna                NaN       Kerin O’Keefe   \n",
       "1                  NaN                NaN          Roger Voss   \n",
       "2    Willamette Valley  Willamette Valley        Paul Gregutt   \n",
       "3  Lake Michigan Shore                NaN  Alexander Peartree   \n",
       "4    Willamette Valley  Willamette Valley        Paul Gregutt   \n",
       "\n",
       "  taster_twitter_handle                                              title  \\\n",
       "0          @kerinokeefe                  Nicosia 2013 Vulkà Bianco  (Etna)   \n",
       "1            @vossroger      Quinta dos Avidagos 2011 Avidagos Red (Douro)   \n",
       "2           @paulgwine       Rainstorm 2013 Pinot Gris (Willamette Valley)   \n",
       "3                   NaN  St. Julian 2013 Reserve Late Harvest Riesling ...   \n",
       "4           @paulgwine   Sweet Cheeks 2012 Vintner's Reserve Wild Child...   \n",
       "\n",
       "          variety               winery  \n",
       "0     White Blend              Nicosia  \n",
       "1  Portuguese Red  Quinta dos Avidagos  \n",
       "2      Pinot Gris            Rainstorm  \n",
       "3        Riesling           St. Julian  \n",
       "4      Pinot Noir         Sweet Cheeks  "
      ]
     },
     "execution_count": 70,
     "metadata": {},
     "output_type": "execute_result"
    }
   ],
   "source": [
    "wine_reviews = pd.read_csv('/Users/clinicalinformaticsphysician/Documents/Clinical informatics/Data analysis/winemag_dataset/winemag-data-130k-v2.csv',\n",
    "                           index_col = 0)\n",
    "wine_reviews.head()"
   ]
  },
  {
   "cell_type": "code",
   "execution_count": 72,
   "metadata": {
    "ExecuteTime": {
     "end_time": "2020-07-01T13:40:51.247764Z",
     "start_time": "2020-07-01T13:40:51.149724Z"
    },
    "scrolled": true
   },
   "outputs": [
    {
     "name": "stdout",
     "output_type": "stream",
     "text": [
      "<class 'pandas.core.frame.DataFrame'>\n",
      "Int64Index: 129971 entries, 0 to 129970\n",
      "Data columns (total 13 columns):\n",
      " #   Column                 Non-Null Count   Dtype  \n",
      "---  ------                 --------------   -----  \n",
      " 0   country                129908 non-null  object \n",
      " 1   description            129971 non-null  object \n",
      " 2   designation            92506 non-null   object \n",
      " 3   points                 129971 non-null  int64  \n",
      " 4   price                  120975 non-null  float64\n",
      " 5   province               129908 non-null  object \n",
      " 6   region_1               108724 non-null  object \n",
      " 7   region_2               50511 non-null   object \n",
      " 8   taster_name            103727 non-null  object \n",
      " 9   taster_twitter_handle  98758 non-null   object \n",
      " 10  title                  129971 non-null  object \n",
      " 11  variety                129970 non-null  object \n",
      " 12  winery                 129971 non-null  object \n",
      "dtypes: float64(1), int64(1), object(11)\n",
      "memory usage: 13.9+ MB\n"
     ]
    }
   ],
   "source": [
    "wine_reviews.info()"
   ]
  },
  {
   "cell_type": "markdown",
   "metadata": {},
   "source": [
    "Terdapat 13 variabel dan 129971 datapoin di dataset Wine Review."
   ]
  },
  {
   "cell_type": "markdown",
   "metadata": {},
   "source": [
    "## Matplotlib.pyplot"
   ]
  },
  {
   "cell_type": "markdown",
   "metadata": {},
   "source": [
    "### Scatter plot (untuk korelasi)"
   ]
  },
  {
   "cell_type": "code",
   "execution_count": 41,
   "metadata": {
    "ExecuteTime": {
     "end_time": "2020-07-01T11:51:52.691910Z",
     "start_time": "2020-07-01T11:51:49.925047Z"
    },
    "scrolled": true
   },
   "outputs": [
    {
     "data": {
      "text/plain": [
       "Text(0, 0.5, 'sepal_width')"
      ]
     },
     "execution_count": 41,
     "metadata": {},
     "output_type": "execute_result"
    },
    {
     "data": {
      "image/png": "[encoded data removed]",
      "text/plain": [
       "<Figure size 432x288 with 1 Axes>"
      ]
     },
     "metadata": {
      "needs_background": "light"
     },
     "output_type": "display_data"
    }
   ],
   "source": [
    "import matplotlib.pyplot as plt\n",
    "\n",
    "fig, ax = plt.subplots()\n",
    "\n",
    "ax.scatter(iris['sepal_length'], iris['sepal_width'])\n",
    "\n",
    "ax.set_title('Iris Dataset')\n",
    "ax.set_xlabel('sepal_length')\n",
    "ax.set_ylabel('sepal_width')"
   ]
  },
  {
   "cell_type": "code",
   "execution_count": 45,
   "metadata": {
    "ExecuteTime": {
     "end_time": "2020-07-01T11:57:03.059978Z",
     "start_time": "2020-07-01T11:57:02.311813Z"
    }
   },
   "outputs": [
    {
     "data": {
      "text/plain": [
       "Text(0, 0.5, 'sepal_width')"
      ]
     },
     "execution_count": 45,
     "metadata": {},
     "output_type": "execute_result"
    },
    {
     "data": {
      "image/png": "[encoded data removed]",
      "text/plain": [
       "<Figure size 432x288 with 1 Axes>"
      ]
     },
     "metadata": {
      "needs_background": "light"
     },
     "output_type": "display_data"
    }
   ],
   "source": [
    "# buat kamus untuk mewarnai scatterplot\n",
    "# saya pakai warna 'red, green, blue' (RGB)\n",
    "\n",
    "colors = {'Iris-setosa':'r', 'Iris-versicolor':'g', 'Iris-virginica':'b'}\n",
    "\n",
    "fig, ax = plt.subplots()\n",
    "\n",
    "for i in range(len(iris['sepal_length'])):\n",
    "    ax.scatter(iris['sepal_length'][i], iris['sepal_width'][i],\n",
    "              color = colors[iris['class'][i]])\n",
    "    \n",
    "ax.set_title('Iris Dataset')\n",
    "ax.set_xlabel('sepal_length')\n",
    "ax.set_ylabel('sepal_width')"
   ]
  },
  {
   "cell_type": "markdown",
   "metadata": {},
   "source": [
    "### Line chart (untuk deret waktu tertentu/*time series*)"
   ]
  },
  {
   "cell_type": "code",
   "execution_count": 46,
   "metadata": {
    "ExecuteTime": {
     "end_time": "2020-07-01T12:38:50.062961Z",
     "start_time": "2020-07-01T12:38:49.796514Z"
    },
    "scrolled": true
   },
   "outputs": [
    {
     "name": "stderr",
     "output_type": "stream",
     "text": [
      "No handles with labels found to put in legend.\n"
     ]
    },
    {
     "data": {
      "text/plain": [
       "<matplotlib.legend.Legend at 0x7fb8e5286550>"
      ]
     },
     "execution_count": 46,
     "metadata": {},
     "output_type": "execute_result"
    },
    {
     "data": {
      "image/png": "[encoded data removed]",
      "text/plain": [
       "<Figure size 432x288 with 1 Axes>"
      ]
     },
     "metadata": {
      "needs_background": "light"
     },
     "output_type": "display_data"
    }
   ],
   "source": [
    "columns = iris.columns.drop(['class'])\n",
    "\n",
    "x_data = range(0, iris.shape[0])\n",
    "\n",
    "fig, ax = plt.subplots()\n",
    "\n",
    "for column in columns:\n",
    "    ax.plot(x_data, iris[column])\n",
    "    \n",
    "ax.set_title('Iris Dataset')\n",
    "ax.legend()"
   ]
  },
  {
   "cell_type": "code",
   "execution_count": 47,
   "metadata": {
    "ExecuteTime": {
     "end_time": "2020-07-01T12:41:05.424695Z",
     "start_time": "2020-07-01T12:41:05.197434Z"
    },
    "scrolled": true
   },
   "outputs": [
    {
     "data": {
      "image/png": "[encoded data removed]",
      "text/plain": [
       "<Figure size 432x288 with 1 Axes>"
      ]
     },
     "metadata": {
      "needs_background": "light"
     },
     "output_type": "display_data"
    }
   ],
   "source": [
    "# membuat 100 nilai tipe float sebagai sumbu x \n",
    "# dan fungsi sinus (x) sebagai hasil sumbu y\n",
    "\n",
    "from numpy import sin\n",
    "\n",
    "# consistent interval for x-axis\n",
    "x = [x*0.1 for x in range(100)]\n",
    "\n",
    "# function of x for y-axis\n",
    "y = sin(x)\n",
    "\n",
    "# create line plot\n",
    "plt.plot(x,y)\n",
    "plt.show()"
   ]
  },
  {
   "cell_type": "markdown",
   "metadata": {},
   "source": [
    "### Histogram (distribusi data)"
   ]
  },
  {
   "cell_type": "code",
   "execution_count": 48,
   "metadata": {
    "ExecuteTime": {
     "end_time": "2020-07-01T12:44:15.684988Z",
     "start_time": "2020-07-01T12:44:15.421472Z"
    }
   },
   "outputs": [
    {
     "data": {
      "text/plain": [
       "Text(0, 0.5, 'Frequency')"
      ]
     },
     "execution_count": 48,
     "metadata": {},
     "output_type": "execute_result"
    },
    {
     "data": {
      "image/png": "[encoded data removed]",
      "text/plain": [
       "<Figure size 432x288 with 1 Axes>"
      ]
     },
     "metadata": {
      "needs_background": "light"
     },
     "output_type": "display_data"
    }
   ],
   "source": [
    "fig, ax = plt.subplots()\n",
    "\n",
    "ax.hist(wine_reviews['points'])\n",
    "\n",
    "ax.set_title('Wine Review Scores')\n",
    "ax.set_xlabel('Points')\n",
    "ax.set_ylabel('Frequency')"
   ]
  },
  {
   "cell_type": "markdown",
   "metadata": {},
   "source": [
    "### Bar chart (perbandingan data; cocok untuk data berkategori <20)"
   ]
  },
  {
   "cell_type": "code",
   "execution_count": 49,
   "metadata": {
    "ExecuteTime": {
     "end_time": "2020-07-01T12:48:01.069000Z",
     "start_time": "2020-07-01T12:48:00.792545Z"
    },
    "scrolled": false
   },
   "outputs": [
    {
     "data": {
      "text/plain": [
       "Text(0, 0.5, 'Frequency')"
      ]
     },
     "execution_count": 49,
     "metadata": {},
     "output_type": "execute_result"
    },
    {
     "data": {
      "image/png": "[encoded data removed]",
      "text/plain": [
       "<Figure size 432x288 with 1 Axes>"
      ]
     },
     "metadata": {
      "needs_background": "light"
     },
     "output_type": "display_data"
    }
   ],
   "source": [
    "fig, ax = plt.subplots()\n",
    "\n",
    "data = wine_reviews['points'].value_counts()\n",
    "\n",
    "points = data.index\n",
    "frequency = data.values\n",
    "\n",
    "ax.bar(points, frequency)\n",
    "\n",
    "ax.set_title('Wine Review Scores')\n",
    "ax.set_xlabel('Points')\n",
    "ax.set_ylabel('Frequency')"
   ]
  },
  {
   "cell_type": "markdown",
   "metadata": {},
   "source": [
    "## Seaborn"
   ]
  },
  {
   "cell_type": "code",
   "execution_count": 50,
   "metadata": {
    "ExecuteTime": {
     "end_time": "2020-07-01T12:51:00.604399Z",
     "start_time": "2020-07-01T12:50:45.938795Z"
    }
   },
   "outputs": [],
   "source": [
    "import seaborn as sns"
   ]
  },
  {
   "cell_type": "markdown",
   "metadata": {},
   "source": [
    "### Scatter plot"
   ]
  },
  {
   "cell_type": "code",
   "execution_count": 51,
   "metadata": {
    "ExecuteTime": {
     "end_time": "2020-07-01T12:51:27.634934Z",
     "start_time": "2020-07-01T12:51:27.382957Z"
    },
    "scrolled": true
   },
   "outputs": [
    {
     "data": {
      "text/plain": [
       "<matplotlib.axes._subplots.AxesSubplot at 0x7fb8e63d4e10>"
      ]
     },
     "execution_count": 51,
     "metadata": {},
     "output_type": "execute_result"
    },
    {
     "data": {
      "image/png": "[encoded data removed]",
      "text/plain": [
       "<Figure size 432x288 with 1 Axes>"
      ]
     },
     "metadata": {
      "needs_background": "light"
     },
     "output_type": "display_data"
    }
   ],
   "source": [
    "sns.scatterplot(x='sepal_length', y='sepal_width', data=iris)"
   ]
  },
  {
   "cell_type": "code",
   "execution_count": 52,
   "metadata": {
    "ExecuteTime": {
     "end_time": "2020-07-01T12:52:50.085011Z",
     "start_time": "2020-07-01T12:52:49.775623Z"
    }
   },
   "outputs": [
    {
     "data": {
      "text/plain": [
       "<matplotlib.axes._subplots.AxesSubplot at 0x7fb8e6589990>"
      ]
     },
     "execution_count": 52,
     "metadata": {},
     "output_type": "execute_result"
    },
    {
     "data": {
      "image/png": "[encoded data removed]",
      "text/plain": [
       "<Figure size 432x288 with 1 Axes>"
      ]
     },
     "metadata": {
      "needs_background": "light"
     },
     "output_type": "display_data"
    }
   ],
   "source": [
    "# scatter plot seaborn berwarna\n",
    "\n",
    "sns.scatterplot(x='sepal_length', y='sepal_width', hue='class', data=iris)"
   ]
  },
  {
   "cell_type": "markdown",
   "metadata": {},
   "source": [
    "### Line chart"
   ]
  },
  {
   "cell_type": "code",
   "execution_count": 53,
   "metadata": {
    "ExecuteTime": {
     "end_time": "2020-07-01T12:54:06.194746Z",
     "start_time": "2020-07-01T12:54:05.672014Z"
    },
    "scrolled": true
   },
   "outputs": [
    {
     "data": {
      "text/plain": [
       "<matplotlib.axes._subplots.AxesSubplot at 0x7fb8e666b850>"
      ]
     },
     "execution_count": 53,
     "metadata": {},
     "output_type": "execute_result"
    },
    {
     "data": {
      "image/png": "[encoded data removed]",
      "text/plain": [
       "<Figure size 432x288 with 1 Axes>"
      ]
     },
     "metadata": {
      "needs_background": "light"
     },
     "output_type": "display_data"
    }
   ],
   "source": [
    "sns.lineplot(data = iris.drop(['class'], axis = 1))"
   ]
  },
  {
   "cell_type": "code",
   "execution_count": 54,
   "metadata": {
    "ExecuteTime": {
     "end_time": "2020-07-01T12:54:39.212920Z",
     "start_time": "2020-07-01T12:54:37.978095Z"
    },
    "scrolled": true
   },
   "outputs": [
    {
     "name": "stderr",
     "output_type": "stream",
     "text": [
      "/Users/clinicalinformaticsphysician/Applications/anaconda3/lib/python3.7/site-packages/seaborn/distributions.py:693: UserWarning: Passing a 2D dataset for a bivariate plot is deprecated in favor of kdeplot(x, y), and it will cause an error in future versions. Please update your code.\n",
      "  warnings.warn(warn_msg, UserWarning)\n"
     ]
    },
    {
     "data": {
      "text/plain": [
       "<matplotlib.axes._subplots.AxesSubplot at 0x7fb8e67a17d0>"
      ]
     },
     "execution_count": 54,
     "metadata": {},
     "output_type": "execute_result"
    },
    {
     "data": {
      "image/png": "[encoded data removed]",
      "text/plain": [
       "<Figure size 432x288 with 1 Axes>"
      ]
     },
     "metadata": {
      "needs_background": "light"
     },
     "output_type": "display_data"
    }
   ],
   "source": [
    "sns.kdeplot(data = iris.drop(['class'], axis = 1))"
   ]
  },
  {
   "cell_type": "markdown",
   "metadata": {},
   "source": [
    "### Histogram"
   ]
  },
  {
   "cell_type": "code",
   "execution_count": 55,
   "metadata": {
    "ExecuteTime": {
     "end_time": "2020-07-01T13:07:21.671150Z",
     "start_time": "2020-07-01T13:07:21.388406Z"
    },
    "scrolled": true
   },
   "outputs": [
    {
     "data": {
      "text/plain": [
       "<matplotlib.axes._subplots.AxesSubplot at 0x7fb8e105bc90>"
      ]
     },
     "execution_count": 55,
     "metadata": {},
     "output_type": "execute_result"
    },
    {
     "data": {
      "image/png": "[encoded data removed]",
      "text/plain": [
       "<Figure size 432x288 with 1 Axes>"
      ]
     },
     "metadata": {
      "needs_background": "light"
     },
     "output_type": "display_data"
    }
   ],
   "source": [
    "sns.distplot(wine_reviews['points'], bins=10, kde=False)"
   ]
  },
  {
   "cell_type": "code",
   "execution_count": 59,
   "metadata": {
    "ExecuteTime": {
     "end_time": "2020-07-01T13:35:22.655083Z",
     "start_time": "2020-07-01T13:35:22.404760Z"
    }
   },
   "outputs": [
    {
     "data": {
      "text/plain": [
       "<matplotlib.axes._subplots.AxesSubplot at 0x7fb8e89253d0>"
      ]
     },
     "execution_count": 59,
     "metadata": {},
     "output_type": "execute_result"
    },
    {
     "data": {
      "image/png": "[encoded data removed]",
      "text/plain": [
       "<Figure size 432x288 with 1 Axes>"
      ]
     },
     "metadata": {
      "needs_background": "light"
     },
     "output_type": "display_data"
    }
   ],
   "source": [
    "# bin 5\n",
    "sns.distplot(wine_reviews['points'], bins=5, kde=False)"
   ]
  },
  {
   "cell_type": "code",
   "execution_count": 60,
   "metadata": {
    "ExecuteTime": {
     "end_time": "2020-07-01T13:35:36.113157Z",
     "start_time": "2020-07-01T13:35:35.839520Z"
    }
   },
   "outputs": [
    {
     "data": {
      "text/plain": [
       "<matplotlib.axes._subplots.AxesSubplot at 0x7fb8e8f1f210>"
      ]
     },
     "execution_count": 60,
     "metadata": {},
     "output_type": "execute_result"
    },
    {
     "data": {
      "image/png": "[encoded data removed]",
      "text/plain": [
       "<Figure size 432x288 with 1 Axes>"
      ]
     },
     "metadata": {
      "needs_background": "light"
     },
     "output_type": "display_data"
    }
   ],
   "source": [
    "# bin 12\n",
    "sns.distplot(wine_reviews['points'], bins=12, kde=False)"
   ]
  },
  {
   "cell_type": "code",
   "execution_count": 61,
   "metadata": {
    "ExecuteTime": {
     "end_time": "2020-07-01T13:35:45.946804Z",
     "start_time": "2020-07-01T13:35:45.311652Z"
    },
    "scrolled": true
   },
   "outputs": [
    {
     "data": {
      "text/plain": [
       "<matplotlib.axes._subplots.AxesSubplot at 0x7fb8e9041d50>"
      ]
     },
     "execution_count": 61,
     "metadata": {},
     "output_type": "execute_result"
    },
    {
     "data": {
      "image/png": "[encoded data removed]",
      "text/plain": [
       "<Figure size 432x288 with 1 Axes>"
      ]
     },
     "metadata": {
      "needs_background": "light"
     },
     "output_type": "display_data"
    }
   ],
   "source": [
    "# bin 15\n",
    "sns.distplot(wine_reviews['points'], bins=15, kde=False)"
   ]
  },
  {
   "cell_type": "markdown",
   "metadata": {},
   "source": [
    "Mengganti nilai bin dapat membantu kita melihat distribusi data secara keseluruhan, seperti zoom in dan zoom out."
   ]
  },
  {
   "cell_type": "code",
   "execution_count": 56,
   "metadata": {
    "ExecuteTime": {
     "end_time": "2020-07-01T13:07:46.465248Z",
     "start_time": "2020-07-01T13:07:46.195688Z"
    }
   },
   "outputs": [
    {
     "data": {
      "text/plain": [
       "<matplotlib.axes._subplots.AxesSubplot at 0x7fb8e55b63d0>"
      ]
     },
     "execution_count": 56,
     "metadata": {},
     "output_type": "execute_result"
    },
    {
     "data": {
      "image/png": "[encoded data removed]",
      "text/plain": [
       "<Figure size 432x288 with 1 Axes>"
      ]
     },
     "metadata": {
      "needs_background": "light"
     },
     "output_type": "display_data"
    }
   ],
   "source": [
    "sns.distplot(wine_reviews['points'], bins=10, kde=True)"
   ]
  },
  {
   "cell_type": "markdown",
   "metadata": {},
   "source": [
    "### Bar chart"
   ]
  },
  {
   "cell_type": "code",
   "execution_count": 57,
   "metadata": {
    "ExecuteTime": {
     "end_time": "2020-07-01T13:08:16.617800Z",
     "start_time": "2020-07-01T13:08:16.263966Z"
    }
   },
   "outputs": [
    {
     "data": {
      "text/plain": [
       "<matplotlib.axes._subplots.AxesSubplot at 0x7fb8e33c72d0>"
      ]
     },
     "execution_count": 57,
     "metadata": {},
     "output_type": "execute_result"
    },
    {
     "data": {
      "image/png": "[encoded data removed]",
      "text/plain": [
       "<Figure size 432x288 with 1 Axes>"
      ]
     },
     "metadata": {
      "needs_background": "light"
     },
     "output_type": "display_data"
    }
   ],
   "source": [
    "sns.countplot(wine_reviews['points'])"
   ]
  },
  {
   "cell_type": "markdown",
   "metadata": {},
   "source": [
    "### Pair plot"
   ]
  },
  {
   "cell_type": "code",
   "execution_count": 58,
   "metadata": {
    "ExecuteTime": {
     "end_time": "2020-07-01T13:09:16.609637Z",
     "start_time": "2020-07-01T13:09:12.041898Z"
    },
    "scrolled": true
   },
   "outputs": [
    {
     "data": {
      "text/plain": [
       "<seaborn.axisgrid.PairGrid at 0x7fb8e73263d0>"
      ]
     },
     "execution_count": 58,
     "metadata": {},
     "output_type": "execute_result"
    },
    {
     "data": {
      "image/png": "[encoded data removed]",
      "text/plain": [
       "<Figure size 720x720 with 20 Axes>"
      ]
     },
     "metadata": {
      "needs_background": "light"
     },
     "output_type": "display_data"
    }
   ],
   "source": [
    "sns.pairplot(iris)"
   ]
  },
  {
   "cell_type": "markdown",
   "metadata": {},
   "source": [
    "Hasil pairplot menunjukkan adanya kemungkinan korelasi positif linier antara `sepal_length` dan `petal_length`, juga `petal_length` dan `petal_width`, tetapi tidak ada korelasi kuat antara `sepal_length` dan `sepal_width`.\n",
    "![iris](https://miro.medium.com/max/289/1*z84WJPA8JvJrhFojMWkcgQ.jpeg)"
   ]
  },
  {
   "cell_type": "markdown",
   "metadata": {},
   "source": [
    "## PDS 08 - Kondisional, Percabangan dan Perulangan"
   ]
  },
  {
   "cell_type": "markdown",
   "metadata": {},
   "source": [
    "## Kondisional"
   ]
  },
  {
   "cell_type": "code",
   "execution_count": 9,
   "metadata": {
    "ExecuteTime": {
     "end_time": "2020-07-01T08:27:01.711909Z",
     "start_time": "2020-07-01T08:27:00.115865Z"
    }
   },
   "outputs": [
    {
     "name": "stdout",
     "output_type": "stream",
     "text": [
      "apakah kamu lulus? [ya/tidak]: tidak\n",
      "Kamu harus ikut ujian\n"
     ]
    }
   ],
   "source": [
    "lulus = input(\"apakah kamu lulus? [ya/tidak]: \")\n",
    "\n",
    "if lulus == 'tidak':\n",
    "    print(\"Kamu harus ikut ujian\")"
   ]
  },
  {
   "cell_type": "code",
   "execution_count": 18,
   "metadata": {
    "ExecuteTime": {
     "end_time": "2020-07-01T10:04:20.945704Z",
     "start_time": "2020-07-01T10:04:15.948560Z"
    }
   },
   "outputs": [
    {
     "name": "stdout",
     "output_type": "stream",
     "text": [
      "Total belanja: Rp 100001\n",
      "Kamu mendapatkan bonus minuman dingin\n",
      "dan diskon 5%\n",
      "Total yang harus dibayar: Rp 95000.95\n",
      "Terima kasih sudah berbelanja\n",
      "Datang lagi yaa...\n"
     ]
    }
   ],
   "source": [
    "# program untuk mengecek bonus dan diskon\n",
    "\n",
    "total_belanja = int(input(\"Total belanja: Rp \"))\n",
    "\n",
    "# jumlah yang harus dibayar adalah berapa total belanjaannya\n",
    "# tapi kalau dapat diskon akan berkurang\n",
    "bayar = total_belanja\n",
    "\n",
    "# jika dia belanja di atas 100.000 maka berikan bonus dan diskon\n",
    "if total_belanja > 100000:\n",
    "    print(\"Kamu mendapatkan bonus minuman dingin\")\n",
    "    print('dan diskon 5%')\n",
    "    \n",
    "    # hitung diskonnya\n",
    "    diskon = total_belanja * 5/100 # 5%\n",
    "    bayar = total_belanja - diskon\n",
    "    \n",
    "# cetak struk\n",
    "print('Total yang harus dibayar: Rp %s' %bayar)\n",
    "print('Terima kasih sudah berbelanja')\n",
    "print('Datang lagi yaa...')"
   ]
  },
  {
   "cell_type": "code",
   "execution_count": 20,
   "metadata": {
    "ExecuteTime": {
     "end_time": "2020-07-01T10:06:00.409802Z",
     "start_time": "2020-07-01T10:05:57.935475Z"
    },
    "scrolled": true
   },
   "outputs": [
    {
     "name": "stdout",
     "output_type": "stream",
     "text": [
      "Berapa umur kamu:35\n",
      "Kamu boleh membuat SIM\n"
     ]
    }
   ],
   "source": [
    "umur = int(input('Berapa umur kamu:'))\n",
    "\n",
    "if umur >= 18:\n",
    "    print('Kamu boleh membuat SIM')\n",
    "else:\n",
    "    print('Kamu belum boleh membuat SIM')"
   ]
  },
  {
   "cell_type": "code",
   "execution_count": 22,
   "metadata": {
    "ExecuteTime": {
     "end_time": "2020-07-01T10:10:02.034819Z",
     "start_time": "2020-07-01T10:09:59.380832Z"
    },
    "scrolled": true
   },
   "outputs": [
    {
     "name": "stdout",
     "output_type": "stream",
     "text": [
      "Inputkan nilaimu:96\n",
      "Grade: A\n"
     ]
    }
   ],
   "source": [
    "nilai = int(input('Inputkan nilaimu:'))\n",
    "\n",
    "if nilai >= 90:\n",
    "    grade = 'A'\n",
    "elif nilai >= 80:\n",
    "    grade = 'B+'\n",
    "elif nilai >= 70:\n",
    "    grade = 'B'\n",
    "elif nilai >= 60:\n",
    "    grade = 'C+'\n",
    "elif nilai >= 50:\n",
    "    grade = 'C'\n",
    "elif nilai >= 40:\n",
    "    grade = 'D'\n",
    "else:\n",
    "    grade = 'E'\n",
    "    \n",
    "print('Grade: %s' %grade)"
   ]
  },
  {
   "cell_type": "markdown",
   "metadata": {},
   "source": [
    "## Perulangan 'for'"
   ]
  },
  {
   "cell_type": "code",
   "execution_count": 30,
   "metadata": {
    "ExecuteTime": {
     "end_time": "2020-07-01T10:26:20.658514Z",
     "start_time": "2020-07-01T10:26:20.638433Z"
    },
    "scrolled": true
   },
   "outputs": [
    {
     "name": "stdout",
     "output_type": "stream",
     "text": [
      "Perulangan ke-0\n",
      "Perulangan ke-1\n",
      "Perulangan ke-2\n",
      "Perulangan ke-3\n",
      "Perulangan ke-4\n",
      "Perulangan ke-5\n",
      "Perulangan ke-6\n",
      "Perulangan ke-7\n",
      "Perulangan ke-8\n",
      "Perulangan ke-9\n",
      "kopi\n",
      "nasi\n",
      "teh\n",
      "jeruk\n"
     ]
    }
   ],
   "source": [
    "ulang = 10\n",
    "\n",
    "for i in range(ulang):\n",
    "    print(\"Perulangan ke-\" +str(i))\n",
    "    \n",
    "item = ['kopi', 'nasi', 'teh', 'jeruk']\n",
    "\n",
    "for isi in item:\n",
    "    print(isi)"
   ]
  },
  {
   "cell_type": "markdown",
   "metadata": {},
   "source": [
    "## Perulangan 'while'"
   ]
  },
  {
   "cell_type": "code",
   "execution_count": 35,
   "metadata": {
    "ExecuteTime": {
     "end_time": "2020-07-01T10:30:49.939205Z",
     "start_time": "2020-07-01T10:30:46.983985Z"
    },
    "scrolled": true
   },
   "outputs": [
    {
     "name": "stdout",
     "output_type": "stream",
     "text": [
      "Ulang lagi tidak? ya\n",
      "Ulang lagi tidak? tidak\n",
      "Total perulangan: 2\n"
     ]
    }
   ],
   "source": [
    "jawab = 'ya'\n",
    "hitung = 0\n",
    "\n",
    "while(jawab == 'ya'):\n",
    "    hitung += 1\n",
    "    jawab = input('Ulang lagi tidak? ')\n",
    "    \n",
    "print('Total perulangan: ' +str(hitung))"
   ]
  },
  {
   "cell_type": "code",
   "execution_count": 34,
   "metadata": {
    "ExecuteTime": {
     "end_time": "2020-07-01T10:30:37.355338Z",
     "start_time": "2020-07-01T10:30:33.091327Z"
    }
   },
   "outputs": [
    {
     "name": "stdout",
     "output_type": "stream",
     "text": [
      "Ulang lagi tidak? [ya/tidak] ya\n",
      "Ulang lagi tidak? [ya/tidak] ya\n",
      "Ulang lagi tidak? [ya/tidak] tidak\n",
      "Total perulangan 3\n"
     ]
    }
   ],
   "source": [
    "jawab = 'ya'\n",
    "hitung = 0\n",
    "\n",
    "while(True):\n",
    "    hitung += 1\n",
    "    jawab = input('Ulang lagi tidak? [ya/tidak] ')\n",
    "    if jawab == 'tidak':\n",
    "        break\n",
    "    \n",
    "print('Total perulangan ' +str(hitung))"
   ]
  },
  {
   "cell_type": "markdown",
   "metadata": {},
   "source": [
    "## PDS 07 Struktur List dan Operator dalam Python"
   ]
  },
  {
   "cell_type": "markdown",
   "metadata": {
    "heading_collapsed": true
   },
   "source": [
    "### List"
   ]
  },
  {
   "cell_type": "markdown",
   "metadata": {
    "hidden": true
   },
   "source": [
    "#### Mendefinisikan list dengan **square brackets ([ ])**"
   ]
  },
  {
   "cell_type": "code",
   "execution_count": 15,
   "metadata": {
    "ExecuteTime": {
     "end_time": "2020-06-30T10:19:03.547989Z",
     "start_time": "2020-06-30T10:19:03.540910Z"
    },
    "hidden": true
   },
   "outputs": [],
   "source": [
    "variabel_list = [1,\"hello\",True]"
   ]
  },
  {
   "cell_type": "markdown",
   "metadata": {
    "hidden": true
   },
   "source": [
    "#### Menampilkan semua nilai list"
   ]
  },
  {
   "cell_type": "code",
   "execution_count": 17,
   "metadata": {
    "ExecuteTime": {
     "end_time": "2020-06-30T10:19:09.670333Z",
     "start_time": "2020-06-30T10:19:09.663416Z"
    },
    "hidden": true
   },
   "outputs": [
    {
     "name": "stdout",
     "output_type": "stream",
     "text": [
      "[1, 'hello', True]\n"
     ]
    }
   ],
   "source": [
    "variabel_list = [1,\"hello\",True]\n",
    "print(variabel_list)"
   ]
  },
  {
   "cell_type": "markdown",
   "metadata": {
    "hidden": true
   },
   "source": [
    "#### Mengakses setiap nilai yang ada di dalam list"
   ]
  },
  {
   "cell_type": "code",
   "execution_count": 3,
   "metadata": {
    "ExecuteTime": {
     "end_time": "2020-06-30T09:59:12.457333Z",
     "start_time": "2020-06-30T09:59:12.449950Z"
    },
    "hidden": true
   },
   "outputs": [
    {
     "name": "stdout",
     "output_type": "stream",
     "text": [
      "1\n",
      "hello\n",
      "True\n"
     ]
    }
   ],
   "source": [
    "print(variabel_list[0])\n",
    "print(variabel_list[1])\n",
    "print(variabel_list[2])"
   ]
  },
  {
   "cell_type": "markdown",
   "metadata": {
    "hidden": true
   },
   "source": [
    "#### Mengubah nilai yang ada di dalam list"
   ]
  },
  {
   "cell_type": "code",
   "execution_count": 5,
   "metadata": {
    "ExecuteTime": {
     "end_time": "2020-06-30T10:00:39.732187Z",
     "start_time": "2020-06-30T10:00:39.714961Z"
    },
    "hidden": true
   },
   "outputs": [
    {
     "name": "stdout",
     "output_type": "stream",
     "text": [
      "[1, 2019, True]\n"
     ]
    }
   ],
   "source": [
    "variabel_list = [1,\"hello\",True]\n",
    "variabel_list[1] = 2019\n",
    "print(variabel_list)"
   ]
  },
  {
   "cell_type": "markdown",
   "metadata": {
    "hidden": true
   },
   "source": [
    "#### Mengecek nilai dengan percabangan atau kondisional IF"
   ]
  },
  {
   "cell_type": "code",
   "execution_count": 7,
   "metadata": {
    "ExecuteTime": {
     "end_time": "2020-06-30T10:01:40.174373Z",
     "start_time": "2020-06-30T10:01:40.166741Z"
    },
    "hidden": true,
    "scrolled": true
   },
   "outputs": [
    {
     "name": "stdout",
     "output_type": "stream",
     "text": [
      "kata hello adalah anggota variabel_list\n"
     ]
    }
   ],
   "source": [
    "variabel_list = [1, \"hello\", True]\n",
    "\n",
    "if \"hello\" in variabel_list:\n",
    "    print(\"kata hello adalah anggota variabel_list\")"
   ]
  },
  {
   "cell_type": "markdown",
   "metadata": {
    "hidden": true
   },
   "source": [
    "#### Mencetak atau menggunakan nilai di dalam list dengan perulangan"
   ]
  },
  {
   "cell_type": "code",
   "execution_count": 8,
   "metadata": {
    "ExecuteTime": {
     "end_time": "2020-06-30T10:02:13.196862Z",
     "start_time": "2020-06-30T10:02:13.188293Z"
    },
    "hidden": true
   },
   "outputs": [
    {
     "name": "stdout",
     "output_type": "stream",
     "text": [
      "1\n",
      "hello\n",
      "True\n"
     ]
    }
   ],
   "source": [
    "variabel_list = [1,\"hello\",True]\n",
    "\n",
    "for i in variabel_list:\n",
    "    print(i)"
   ]
  },
  {
   "cell_type": "markdown",
   "metadata": {
    "hidden": true
   },
   "source": [
    "#### Menggabungkan dua list"
   ]
  },
  {
   "cell_type": "code",
   "execution_count": 10,
   "metadata": {
    "ExecuteTime": {
     "end_time": "2020-06-30T10:09:34.236549Z",
     "start_time": "2020-06-30T10:09:34.227936Z"
    },
    "hidden": true,
    "scrolled": true
   },
   "outputs": [
    {
     "name": "stdout",
     "output_type": "stream",
     "text": [
      "[1, 'hello', True, 'anton', 2019]\n"
     ]
    }
   ],
   "source": [
    "list_1 = [1, \"hello\", True]\n",
    "list_2 = [\"anton\", 2019]\n",
    "\n",
    "list_3 = list_1 + list_2\n",
    "\n",
    "print(list_3)"
   ]
  },
  {
   "cell_type": "markdown",
   "metadata": {
    "hidden": true
   },
   "source": [
    "#### Menambah item di list: **append()**"
   ]
  },
  {
   "cell_type": "code",
   "execution_count": 11,
   "metadata": {
    "ExecuteTime": {
     "end_time": "2020-06-30T10:12:54.784135Z",
     "start_time": "2020-06-30T10:12:54.776525Z"
    },
    "hidden": true
   },
   "outputs": [
    {
     "name": "stdout",
     "output_type": "stream",
     "text": [
      "[1, 'hello', True, 12.4, 'Anton']\n"
     ]
    }
   ],
   "source": [
    "variabel_list = [1, \"hello\", True]\n",
    "\n",
    "variabel_list.append(12.4)\n",
    "variabel_list.append(\"Anton\")\n",
    "\n",
    "print(variabel_list)"
   ]
  },
  {
   "cell_type": "markdown",
   "metadata": {
    "hidden": true
   },
   "source": [
    "#### Menambah anggota list di index tertentu: insert()"
   ]
  },
  {
   "cell_type": "code",
   "execution_count": 12,
   "metadata": {
    "ExecuteTime": {
     "end_time": "2020-06-30T10:14:17.661544Z",
     "start_time": "2020-06-30T10:14:17.654496Z"
    },
    "hidden": true
   },
   "outputs": [
    {
     "name": "stdout",
     "output_type": "stream",
     "text": [
      "[1, 'Anton', 'hello', True]\n"
     ]
    }
   ],
   "source": [
    "variabel_list = [1, \"hello\", True]\n",
    "\n",
    "variabel_list.insert(1, \"Anton\")\n",
    "\n",
    "print(variabel_list)"
   ]
  },
  {
   "cell_type": "markdown",
   "metadata": {
    "hidden": true
   },
   "source": [
    "#### Menghapus item di list: **remove()**"
   ]
  },
  {
   "cell_type": "code",
   "execution_count": 13,
   "metadata": {
    "ExecuteTime": {
     "end_time": "2020-06-30T10:18:06.559073Z",
     "start_time": "2020-06-30T10:18:06.552392Z"
    },
    "hidden": true
   },
   "outputs": [
    {
     "name": "stdout",
     "output_type": "stream",
     "text": [
      "[1, True]\n"
     ]
    }
   ],
   "source": [
    "variabel_list = [1, \"hello\", True]\n",
    "\n",
    "variabel_list.remove(\"hello\")\n",
    "\n",
    "print(variabel_list)"
   ]
  },
  {
   "cell_type": "markdown",
   "metadata": {
    "hidden": true
   },
   "source": [
    "#### Menghitung panjang isi list: len()"
   ]
  },
  {
   "cell_type": "code",
   "execution_count": 14,
   "metadata": {
    "ExecuteTime": {
     "end_time": "2020-06-30T10:18:54.090662Z",
     "start_time": "2020-06-30T10:18:54.083576Z"
    },
    "hidden": true
   },
   "outputs": [
    {
     "name": "stdout",
     "output_type": "stream",
     "text": [
      "3\n"
     ]
    }
   ],
   "source": [
    "variabel_list = [1, \"hello\", True]\n",
    "\n",
    "print(len(variabel_list))"
   ]
  },
  {
   "cell_type": "markdown",
   "metadata": {
    "hidden": true
   },
   "source": [
    "#### Menduplikasi list: copy()"
   ]
  },
  {
   "cell_type": "code",
   "execution_count": 18,
   "metadata": {
    "ExecuteTime": {
     "end_time": "2020-06-30T10:20:45.757602Z",
     "start_time": "2020-06-30T10:20:45.749498Z"
    },
    "hidden": true
   },
   "outputs": [
    {
     "name": "stdout",
     "output_type": "stream",
     "text": [
      "[1, 'hello', True]\n"
     ]
    }
   ],
   "source": [
    "variabel_list = [1, \"hello\", True]\n",
    "\n",
    "variabel_copy = variabel_list.copy()\n",
    "\n",
    "print(variabel_copy)"
   ]
  },
  {
   "cell_type": "markdown",
   "metadata": {
    "hidden": true
   },
   "source": [
    "#### Mengosongkan list: clear()"
   ]
  },
  {
   "cell_type": "code",
   "execution_count": 19,
   "metadata": {
    "ExecuteTime": {
     "end_time": "2020-06-30T10:21:49.830611Z",
     "start_time": "2020-06-30T10:21:49.823074Z"
    },
    "hidden": true
   },
   "outputs": [
    {
     "name": "stdout",
     "output_type": "stream",
     "text": [
      "[]\n"
     ]
    }
   ],
   "source": [
    "variabel_list = [1, \"hello\", True]\n",
    "\n",
    "variabel_list.clear()\n",
    "\n",
    "print(variabel_list)"
   ]
  },
  {
   "cell_type": "markdown",
   "metadata": {
    "hidden": true
   },
   "source": [
    "#### Menghitung jumlah item yang sama di dalam list: count()"
   ]
  },
  {
   "cell_type": "code",
   "execution_count": 20,
   "metadata": {
    "ExecuteTime": {
     "end_time": "2020-06-30T10:22:37.806800Z",
     "start_time": "2020-06-30T10:22:37.799247Z"
    },
    "hidden": true
   },
   "outputs": [
    {
     "name": "stdout",
     "output_type": "stream",
     "text": [
      "1\n"
     ]
    }
   ],
   "source": [
    "variabel_list = [1, \"hello\", True]\n",
    "\n",
    "item = variabel_list.count(\"hello\")\n",
    "\n",
    "print(item)"
   ]
  },
  {
   "cell_type": "markdown",
   "metadata": {
    "hidden": true
   },
   "source": [
    "#### Menghapus item di index tertentu: pop()"
   ]
  },
  {
   "cell_type": "code",
   "execution_count": 21,
   "metadata": {
    "ExecuteTime": {
     "end_time": "2020-06-30T10:23:29.326527Z",
     "start_time": "2020-06-30T10:23:29.304457Z"
    },
    "hidden": true,
    "scrolled": true
   },
   "outputs": [
    {
     "name": "stdout",
     "output_type": "stream",
     "text": [
      "[1, 'hello']\n"
     ]
    }
   ],
   "source": [
    "variabel_list = [1, \"hello\", True]\n",
    "\n",
    "variabel_list.pop(2)\n",
    "\n",
    "print(variabel_list)"
   ]
  },
  {
   "cell_type": "markdown",
   "metadata": {},
   "source": [
    "### Operator"
   ]
  },
  {
   "cell_type": "markdown",
   "metadata": {},
   "source": [
    "#### Operator aritmatika"
   ]
  },
  {
   "cell_type": "code",
   "execution_count": 23,
   "metadata": {
    "ExecuteTime": {
     "end_time": "2020-06-30T10:31:21.931646Z",
     "start_time": "2020-06-30T10:31:21.919061Z"
    }
   },
   "outputs": [
    {
     "name": "stdout",
     "output_type": "stream",
     "text": [
      "hasil penjumlahan = 15\n",
      "hasil pengurangan = 5\n",
      "hasil perlkalian = 50\n",
      "hasil pembagian = 2.0\n",
      "hasil perpangkatan = 100000\n",
      "hasil modulus = 0\n"
     ]
    }
   ],
   "source": [
    "# masukkan variabel nilai_1 dan nilai_2 dan isi nilainya\n",
    "nilai_1 = 10\n",
    "nilai_2 = 5\n",
    "\n",
    "# lakukan operasi aritmatika dan cetak menggunakan fungsi print()\n",
    "# simpan hasil operasi nilai_1 dan nilai_2 di variabel hasil dan\n",
    "# ubah ke bentuk string\n",
    "\n",
    "# penjumlahan\n",
    "hasil = nilai_1 + nilai_2\n",
    "print(\"hasil penjumlahan = \"+str(hasil))\n",
    "\n",
    "# pengurangan\n",
    "hasil = nilai_1 - nilai_2\n",
    "print(\"hasil pengurangan = \"+str(hasil))\n",
    "\n",
    "# perkalian\n",
    "hasil = nilai_1 * nilai_2\n",
    "print(\"hasil perlkalian = \"+str(hasil))\n",
    "\n",
    "# pembagian\n",
    "hasil = nilai_1 / nilai_2\n",
    "print(\"hasil pembagian = \"+str(hasil))\n",
    "\n",
    "# perpangkatan\n",
    "hasil = nilai_1 ** nilai_2\n",
    "print(\"hasil perpangkatan = \"+str(hasil))\n",
    "\n",
    "# modulus (sisa bagi)\n",
    "hasil = nilai_1 % nilai_2\n",
    "print(\"hasil modulus = \"+str(hasil))"
   ]
  },
  {
   "cell_type": "markdown",
   "metadata": {},
   "source": [
    "#### Operator penugasan"
   ]
  },
  {
   "cell_type": "code",
   "execution_count": 2,
   "metadata": {
    "ExecuteTime": {
     "end_time": "2020-07-01T07:58:58.519638Z",
     "start_time": "2020-07-01T07:58:58.507385Z"
    }
   },
   "outputs": [
    {
     "name": "stdout",
     "output_type": "stream",
     "text": [
      "hasil penjumlahan = 12\n",
      "hasil pengurangan = 10\n",
      "hasil perkalian = 20\n",
      "hasil pembagian = 10.0\n",
      "hasil perpangkatan = 100.0\n",
      "hasil modulus = 0.0\n"
     ]
    }
   ],
   "source": [
    "# Gunakan operator penugasan = untuk mendefinisikan nilai variabel\n",
    "angka = 10\n",
    "\n",
    "#lakukan operasi penugasan dengan nilai integer 2 dan cetak menggunakan fungsi\n",
    "# print()\n",
    "\n",
    "# penjumlahan\n",
    "angka += 2\n",
    "print(\"hasil penjumlahan = \"+str(angka)) # 10+2 = 12\n",
    "\n",
    "# pengurangan\n",
    "angka -= 2\n",
    "print(\"hasil pengurangan = \"+str(angka)) # 12-2 = 10\n",
    "\n",
    "# perkalian\n",
    "angka *= 2\n",
    "print(\"hasil perkalian = \"+str(angka)) # 10*2 = 20\n",
    "\n",
    "# pembagian\n",
    "angka /= 2\n",
    "print(\"hasil pembagian = \"+str(angka)) # 20/2 = 10\n",
    "\n",
    "# perpangkatan\n",
    "angka **= 2\n",
    "print(\"hasil perpangkatan = \"+str(angka)) # 10**2 = 10\n",
    "\n",
    "# modulus (sisa bagi)\n",
    "angka %= 2\n",
    "print(\"hasil modulus = \"+str(angka)) # 100%2 = 0"
   ]
  },
  {
   "cell_type": "markdown",
   "metadata": {},
   "source": [
    "#### Operator perbandingan"
   ]
  },
  {
   "cell_type": "code",
   "execution_count": 4,
   "metadata": {
    "ExecuteTime": {
     "end_time": "2020-07-01T08:03:14.365758Z",
     "start_time": "2020-07-01T08:03:14.356385Z"
    }
   },
   "outputs": [
    {
     "name": "stdout",
     "output_type": "stream",
     "text": [
      "nilai_1 > nilai_2 = True\n",
      "nilai_1 < nilai_2 = False\n",
      "nilai_1 >= nilai_2 = True\n",
      "nilai_1 <= nilai_2 = False\n",
      "nilai_1 == nilai_2 = False\n",
      "nilai_1 != nilai_2 = True\n"
     ]
    }
   ],
   "source": [
    "# masukkan nilai variabel nilai_1 dan nilai_2\n",
    "nilai_1 = 10\n",
    "nilai_2 = 5\n",
    "\n",
    "# kita bandingkan antara nilai dari variabel nilai_1 dan nilai_2\n",
    "\n",
    "print(\"nilai_1 > nilai_2 = \" +str(nilai_1 > nilai_2))\n",
    "\n",
    "print(\"nilai_1 < nilai_2 = \" +str(nilai_1 < nilai_2))\n",
    "\n",
    "print(\"nilai_1 >= nilai_2 = \" +str(nilai_1 >= nilai_2))\n",
    "\n",
    "print(\"nilai_1 <= nilai_2 = \" +str(nilai_1 <= nilai_2))\n",
    "\n",
    "print(\"nilai_1 == nilai_2 = \" +str(nilai_1 == nilai_2))\n",
    "\n",
    "print(\"nilai_1 != nilai_2 = \" +str(nilai_1 != nilai_2))"
   ]
  },
  {
   "cell_type": "markdown",
   "metadata": {},
   "source": [
    "#### Operator logika"
   ]
  },
  {
   "cell_type": "code",
   "execution_count": 5,
   "metadata": {
    "ExecuteTime": {
     "end_time": "2020-07-01T08:18:33.632632Z",
     "start_time": "2020-07-01T08:18:33.623443Z"
    }
   },
   "outputs": [
    {
     "name": "stdout",
     "output_type": "stream",
     "text": [
      "nilai_1 and nilai_2 = False\n",
      "nilai_1 and nilai_ = True\n",
      "nilai_1 or nilai_2 = True\n",
      "nilai_1 or nilai_3 = True\n",
      "not nilai_1 = False\n",
      "not nilai_2 = True\n"
     ]
    }
   ],
   "source": [
    "nilai_1 = True\n",
    "nilai_2 = False\n",
    "nilai_3 = True\n",
    "\n",
    "# Logika 'and'\n",
    "print(\"nilai_1 and nilai_2 = \" +str(nilai_1 and nilai_2))\n",
    "print(\"nilai_1 and nilai_ = \" +str(nilai_1 and nilai_3))\n",
    "\n",
    "# Logika 'or'\n",
    "print(\"nilai_1 or nilai_2 = \" +str(nilai_1 or nilai_2))\n",
    "print(\"nilai_1 or nilai_3 = \" +str(nilai_1 or nilai_3))\n",
    "\n",
    "# Logika 'not'\n",
    "print(\"not nilai_1 = \" +str(not nilai_1))\n",
    "print(\"not nilai_2 = \" +str(not nilai_2))"
   ]
  },
  {
   "cell_type": "markdown",
   "metadata": {},
   "source": [
    "#### Operator identitas"
   ]
  },
  {
   "cell_type": "code",
   "execution_count": 6,
   "metadata": {
    "ExecuteTime": {
     "end_time": "2020-07-01T08:20:03.250125Z",
     "start_time": "2020-07-01T08:20:03.242827Z"
    }
   },
   "outputs": [
    {
     "name": "stdout",
     "output_type": "stream",
     "text": [
      "False\n",
      "True\n"
     ]
    }
   ],
   "source": [
    "nilai_1 = 20\n",
    "nilai_2 = 10\n",
    "\n",
    "# membandingkan nilai_1 dengan nilai_2\n",
    "print(nilai_1 is nilai_2)\n",
    "\n",
    "# membandingkan nilai_1 dengan nilai 20\n",
    "print(nilai_1 is 20)"
   ]
  },
  {
   "cell_type": "markdown",
   "metadata": {},
   "source": [
    "#### Operator keanggotaan"
   ]
  },
  {
   "cell_type": "code",
   "execution_count": 7,
   "metadata": {
    "ExecuteTime": {
     "end_time": "2020-07-01T08:21:42.157151Z",
     "start_time": "2020-07-01T08:21:42.148802Z"
    }
   },
   "outputs": [
    {
     "name": "stdout",
     "output_type": "stream",
     "text": [
      "True\n",
      "True\n"
     ]
    }
   ],
   "source": [
    "nama = \"ventje\"\n",
    "\n",
    "hobi = ['bermain', 'ngoding', 'jalan-jalan']\n",
    "\n",
    "# cari huruf 't' di variabel nama\n",
    "print('t' in nama)\n",
    "\n",
    "# cari string 'bermain' di list hobi\n",
    "print('bermain' in hobi)"
   ]
  },
  {
   "cell_type": "markdown",
   "metadata": {},
   "source": [
    "## PDS 06 Sintaks"
   ]
  },
  {
   "cell_type": "code",
   "execution_count": 1,
   "metadata": {
    "ExecuteTime": {
     "end_time": "2020-06-29T14:32:22.408997Z",
     "start_time": "2020-06-29T14:32:22.401519Z"
    },
    "cell_style": "center"
   },
   "outputs": [
    {
     "name": "stdout",
     "output_type": "stream",
     "text": [
      "Hello World!\n",
      "Belajar Python dari Nol\n"
     ]
    }
   ],
   "source": [
    "print(\"Hello World!\")\n",
    "print(\"Belajar Python dari Nol\")\n",
    "nama = \"petani kode\""
   ]
  },
  {
   "cell_type": "code",
   "execution_count": 2,
   "metadata": {
    "ExecuteTime": {
     "end_time": "2020-06-29T14:33:19.461972Z",
     "start_time": "2020-06-29T14:33:19.455716Z"
    },
    "cell_style": "split"
   },
   "outputs": [
    {
     "name": "stdout",
     "output_type": "stream",
     "text": [
      "Hello\n",
      "World\n",
      "Tutorial Python untuk Pemula\n"
     ]
    }
   ],
   "source": [
    "print(\"Hello\");print(\"World\");print(\"Tutorial Python untuk Pemula\")\n",
    "nama_depan = \"petani\"; nama_belakang = \"kode\""
   ]
  },
  {
   "cell_type": "code",
   "execution_count": 3,
   "metadata": {
    "ExecuteTime": {
     "end_time": "2020-06-29T14:33:48.724500Z",
     "start_time": "2020-06-29T14:33:48.717770Z"
    }
   },
   "outputs": [],
   "source": [
    "judul = \"Belajar Pemrograman Python sampai Bisa\"\n",
    "penulis = 'Petani Kode'"
   ]
  },
  {
   "cell_type": "code",
   "execution_count": 4,
   "metadata": {
    "ExecuteTime": {
     "end_time": "2020-06-29T14:34:16.800062Z",
     "start_time": "2020-06-29T14:34:16.793310Z"
    }
   },
   "outputs": [],
   "source": [
    "judul = \"\"\"Belajar Python dengan Cepat\"\"\"\n",
    "penulis = '''Petani Kode'''"
   ]
  },
  {
   "cell_type": "code",
   "execution_count": 5,
   "metadata": {
    "ExecuteTime": {
     "end_time": "2020-06-29T14:34:45.110314Z",
     "start_time": "2020-06-29T14:34:45.103697Z"
    }
   },
   "outputs": [],
   "source": [
    "judul = \"Belajar Dasa-dasar Python\"\n",
    "Judul = \"Belajar Membuat Program Python\""
   ]
  },
  {
   "cell_type": "code",
   "execution_count": 8,
   "metadata": {
    "ExecuteTime": {
     "end_time": "2020-06-29T14:36:56.522582Z",
     "start_time": "2020-06-29T14:36:56.388473Z"
    }
   },
   "outputs": [
    {
     "ename": "NameError",
     "evalue": "name 'username' is not defined",
     "output_type": "error",
     "traceback": [
      "\u001b[0;31m---------------------------------------------------------------------------\u001b[0m",
      "\u001b[0;31mNameError\u001b[0m                                 Traceback (most recent call last)",
      "\u001b[0;32m<ipython-input-8-211c455f1d44>\u001b[0m in \u001b[0;36m<module>\u001b[0;34m\u001b[0m\n\u001b[1;32m      1\u001b[0m \u001b[0;31m#blok percabangan if\u001b[0m\u001b[0;34m\u001b[0m\u001b[0;34m\u001b[0m\u001b[0;34m\u001b[0m\u001b[0m\n\u001b[0;32m----> 2\u001b[0;31m \u001b[0;32mif\u001b[0m \u001b[0musername\u001b[0m \u001b[0;34m==\u001b[0m \u001b[0;34m'petanikode'\u001b[0m\u001b[0;34m:\u001b[0m\u001b[0;34m\u001b[0m\u001b[0;34m\u001b[0m\u001b[0m\n\u001b[0m\u001b[1;32m      3\u001b[0m     \u001b[0mprint\u001b[0m\u001b[0;34m(\u001b[0m\u001b[0;34m\"Selamat Datang Admin\"\u001b[0m\u001b[0;34m)\u001b[0m\u001b[0;34m\u001b[0m\u001b[0;34m\u001b[0m\u001b[0m\n\u001b[1;32m      4\u001b[0m     \u001b[0mprint\u001b[0m\u001b[0;34m(\u001b[0m\u001b[0;34m\"Silahkan ambil tempat duduk\"\u001b[0m\u001b[0;34m)\u001b[0m\u001b[0;34m\u001b[0m\u001b[0;34m\u001b[0m\u001b[0m\n\u001b[1;32m      5\u001b[0m \u001b[0;34m\u001b[0m\u001b[0m\n",
      "\u001b[0;31mNameError\u001b[0m: name 'username' is not defined"
     ]
    }
   ],
   "source": [
    "#blok percabangan if\n",
    "if username == 'petanikode':\n",
    "    print(\"Selamat Datang Admin\")\n",
    "    print(\"Silahkan ambil tempat duduk\")\n",
    "    \n",
    "#blok percabangan for\n",
    "for i in range(10):\n",
    "    print(i)"
   ]
  },
  {
   "cell_type": "code",
   "execution_count": 9,
   "metadata": {
    "ExecuteTime": {
     "end_time": "2020-06-29T14:37:23.463584Z",
     "start_time": "2020-06-29T14:37:23.457772Z"
    }
   },
   "outputs": [],
   "source": [
    "# ini adalah komentar\n",
    "# Ini juga komentar"
   ]
  },
  {
   "cell_type": "code",
   "execution_count": 10,
   "metadata": {
    "ExecuteTime": {
     "end_time": "2020-06-29T14:37:40.050895Z",
     "start_time": "2020-06-29T14:37:40.037869Z"
    }
   },
   "outputs": [
    {
     "data": {
      "text/plain": [
       "'Ini juga komentar, tapi dengan tanda petik tunggal'"
      ]
     },
     "execution_count": 10,
     "metadata": {},
     "output_type": "execute_result"
    }
   ],
   "source": [
    "\"Ini adalah komentar dengan tanda petik ganda\"\n",
    "'Ini juga komentar, tapi dengan tanda petik tunggal'"
   ]
  },
  {
   "cell_type": "code",
   "execution_count": 11,
   "metadata": {
    "ExecuteTime": {
     "end_time": "2020-06-29T14:39:43.554943Z",
     "start_time": "2020-06-29T14:39:43.545441Z"
    }
   },
   "outputs": [
    {
     "ename": "SyntaxError",
     "evalue": "invalid syntax (<ipython-input-11-04cb68f6553b>, line 4)",
     "output_type": "error",
     "traceback": [
      "\u001b[0;36m  File \u001b[0;32m\"<ipython-input-11-04cb68f6553b>\"\u001b[0;36m, line \u001b[0;32m4\u001b[0m\n\u001b[0;31m    def__init__(self, warna, tinggi, bahan):\u001b[0m\n\u001b[0m                                            ^\u001b[0m\n\u001b[0;31mSyntaxError\u001b[0m\u001b[0;31m:\u001b[0m invalid syntax\n"
     ]
    }
   ],
   "source": [
    "class Pagar:\n",
    "    \"\"\"kelas pagar untuk membuat objek pagar. dibuat oleh Petani Kode\n",
    "    sebagai contoh saja.\"\"\"\n",
    "    def__init__(self, warna, tinggi, bahan):\n",
    "        self.warna = warna\n",
    "        self.tinggi = tingginggi\n",
    "        self. bahan = bahanan\n",
    "        \n",
    "# Mengakses dokumentasi kelas\n",
    "print Pagar.__doc__\n",
    "input('\\ntekan[enter] untuk melihat bantuan (dokumentasi) kelas:')\n",
    "help(Pagar) # untuk melihat dokumentasi kelas"
   ]
  },
  {
   "cell_type": "code",
   "execution_count": 13,
   "metadata": {
    "ExecuteTime": {
     "end_time": "2020-06-29T14:40:39.859091Z",
     "start_time": "2020-06-29T14:40:39.851761Z"
    }
   },
   "outputs": [
    {
     "name": "stdout",
     "output_type": "stream",
     "text": [
      "nama saya: ventje\n",
      "alamat: bandung\n"
     ]
    }
   ],
   "source": [
    "nama = \"ventje\"\n",
    "alamat = \"bandung\"\n",
    "\n",
    "print(\"nama saya: \"+nama)\n",
    "print(\"alamat: \"+alamat)"
   ]
  },
  {
   "cell_type": "code",
   "execution_count": 14,
   "metadata": {
    "ExecuteTime": {
     "end_time": "2020-06-29T14:41:29.101231Z",
     "start_time": "2020-06-29T14:41:29.094211Z"
    }
   },
   "outputs": [],
   "source": [
    "nama = \"ventje\"\n",
    "UMUR = 23\n",
    "_alamat = \"bandung\"\n",
    "hobi_ = \"jalan-jalan\"\n",
    "JENIS_kelamin = \"L\"\n",
    "Tingg1 = 160.4\n",
    "Pintar = True"
   ]
  },
  {
   "cell_type": "code",
   "execution_count": 15,
   "metadata": {
    "ExecuteTime": {
     "end_time": "2020-06-29T14:42:13.891753Z",
     "start_time": "2020-06-29T14:42:13.883375Z"
    }
   },
   "outputs": [
    {
     "name": "stdout",
     "output_type": "stream",
     "text": [
      "ventje\n",
      "23\n",
      "bandung\n",
      "jalan-jalan\n",
      "L\n",
      "160.4\n",
      "True\n"
     ]
    }
   ],
   "source": [
    "print(nama)\n",
    "print(UMUR)\n",
    "print(_alamat)\n",
    "print(hobi_)\n",
    "print(JENIS_kelamin)\n",
    "print(Tingg1)\n",
    "print(Pintar)"
   ]
  },
  {
   "cell_type": "code",
   "execution_count": 17,
   "metadata": {
    "ExecuteTime": {
     "end_time": "2020-06-29T14:43:12.474850Z",
     "start_time": "2020-06-29T14:43:12.464100Z"
    }
   },
   "outputs": [
    {
     "name": "stdout",
     "output_type": "stream",
     "text": [
      "<class 'str'>\n",
      "<class 'int'>\n",
      "<class 'str'>\n",
      "<class 'str'>\n",
      "<class 'str'>\n",
      "<class 'float'>\n",
      "<class 'bool'>\n"
     ]
    }
   ],
   "source": [
    "print(type(nama))\n",
    "print(type(UMUR))\n",
    "print(type(_alamat))\n",
    "print(type(hobi_))\n",
    "print(type(JENIS_kelamin))\n",
    "print(type(Tingg1))\n",
    "print(type(Pintar))"
   ]
  },
  {
   "cell_type": "code",
   "execution_count": 20,
   "metadata": {
    "ExecuteTime": {
     "end_time": "2020-06-29T14:43:56.513898Z",
     "start_time": "2020-06-29T14:43:56.505786Z"
    }
   },
   "outputs": [
    {
     "name": "stdout",
     "output_type": "stream",
     "text": [
      "<class 'str'>\n",
      "<class 'int'>\n"
     ]
    }
   ],
   "source": [
    "umur = \"10\"\n",
    "print(type(umur))\n",
    "\n",
    "umur_integer = int(umur)\n",
    "print(type(umur_integer))"
   ]
  }
 ],
 "metadata": {
  "kernelspec": {
   "display_name": "Python 3",
   "language": "python",
   "name": "python3"
  },
  "language_info": {
   "codemirror_mode": {
    "name": "ipython",
    "version": 3
   },
   "file_extension": ".py",
   "mimetype": "text/x-python",
   "name": "python",
   "nbconvert_exporter": "python",
   "pygments_lexer": "ipython3",
   "version": "3.7.6"
  },
  "toc": {
   "base_numbering": 1,
   "nav_menu": {},
   "number_sections": false,
   "sideBar": true,
   "skip_h1_title": false,
   "title_cell": "Table of Contents",
   "title_sidebar": "Contents",
   "toc_cell": false,
   "toc_position": {
    "height": "calc(100% - 180px)",
    "left": "10px",
    "top": "150px",
    "width": "165px"
   },
   "toc_section_display": true,
   "toc_window_display": true
  }
 },
 "nbformat": 4,
 "nbformat_minor": 4
}
